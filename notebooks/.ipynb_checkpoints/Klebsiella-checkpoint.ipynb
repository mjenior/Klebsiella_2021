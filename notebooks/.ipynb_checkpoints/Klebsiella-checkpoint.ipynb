{
 "cells": [
  {
   "cell_type": "code",
   "execution_count": 4,
   "metadata": {},
   "outputs": [],
   "source": [
    "import cobra\n",
    "from cobra.flux_analysis import parsimonious\n",
    "from cobra.flux_analysis.variability import find_essential_genes, find_essential_reactions\n",
    "from cobra.medium.minimal_medium import minimal_medium"
   ]
  },
  {
   "cell_type": "code",
   "execution_count": 2,
   "metadata": {},
   "outputs": [],
   "source": [
    "iYL1228 = cobra.io.load_json_model('/home/mjenior/Desktop/repos/Klebsiella_2021/data/iYL1228.json')"
   ]
  },
  {
   "cell_type": "code",
   "execution_count": 27,
   "metadata": {},
   "outputs": [],
   "source": [
    "KPN_loci = []\n",
    "for x in iYL1228.genes:\n",
    "    locus = x.id\n",
    "    locus = locus.split('_')[1]\n",
    "    KPN_loci.append(locus)\n",
    "KPN_loci = set(KPN_loci)\n",
    "\n",
    "KPHS_loci = []\n",
    "with open('sequence.txt', 'r') as inFile:\n",
    "    for line in inFile:\n",
    "        if not line[0] == '>':\n",
    "            continue\n",
    "        else:\n",
    "            locus = line.split()[1]\n",
    "            locus = locus.split('=')[1]\n",
    "            locus = locus.rstrip(']')\n",
    "            locus = locus.split('_')[1]\n",
    "            KPHS_loci.append(locus)\n",
    "KPHS_loci = set(KPHS_loci)"
   ]
  },
  {
   "cell_type": "code",
   "execution_count": 1,
   "metadata": {},
   "outputs": [],
   "source": [
    "# Function to calculate doubling time from objective value\n",
    "def doublingTime(model):\n",
    "    with model as m:\n",
    "        if m.slim_optimize(error_value=0.) < 1e-6:\n",
    "            print('GENRE has no objective flux')\n",
    "        else:\n",
    "            growth = (1. / float(m.slim_optimize())) * 3600.\n",
    "            print(str(round(growth, 2)) + ' minutes doubling time')\n",
    "\n",
    "\n",
    "# Identifies blocked reactions, 1% cutoff for fraction of optimum\n",
    "def blockedReactions(model):\n",
    "    \n",
    "    with model as m:\n",
    "        blocked = cobra.flux_analysis.variability.find_blocked_reactions(m)\n",
    "        nogene_blocked = []\n",
    "        for rxn in blocked:\n",
    "            if m.reactions.get_by_id(rxn).gene_reaction_rule == '':\n",
    "                nogene_blocked.append(rxn)\n",
    "\n",
    "    #print(str(len(blocked)) + ' total reactions are blocked')\n",
    "    fraction = (float(len(blocked)) / float(len(model.reactions))) * 100.\n",
    "    fraction = round(fraction, 2)\n",
    "    print(str(fraction) + '% reactions are blocked')\n",
    "    \n",
    "    return blocked\n",
    "\n",
    "\n",
    "# Identify potentially gapfilled reactions, checks against pFBA solution\n",
    "def missingGPR(model):\n",
    "    \n",
    "    noGene = []\n",
    "    exclude = []\n",
    "    for rxn in model.reactions:\n",
    "        if len(list(rxn.genes)) == 0:\n",
    "            if rxn.annotation['sbo'] != 'SBO:0000629':\n",
    "                if rxn in model.boundary:\n",
    "                    exclude.append(rxn.id)\n",
    "                    continue\n",
    "                else:\n",
    "                    noGene.append(rxn.id)\n",
    "    \n",
    "    solution = parsimonious.pfba(model)\n",
    "    active_rxns = set([rxn.id for rxn in model.reactions if abs(solution.fluxes[rxn.id]) > 1e-5])\n",
    "    active_rxns = active_rxns.difference(set(exclude))\n",
    "    noGene_active = set(noGene).intersection(active_rxns)\n",
    "\n",
    "    fraction = float(len(model.reactions)) - float(len(exclude))\n",
    "    fraction = (float(len(noGene)) / fraction) * 100.\n",
    "    fraction = round(fraction, 2)\n",
    "    print(str(fraction) + '% reactions without GPRs')\n",
    "    \n",
    "    fraction = (float(len(noGene_active)) / float(len(active_rxns))) * 100.\n",
    "    fraction = round(fraction, 2)\n",
    "    print(str(fraction) + '% of reactions used in pFBA solution have no GPR')\n",
    "    \n",
    "    return noGene_active\n",
    "\n",
    "\n",
    "# Checks which cytosolic metabolites are generated for free (bacteria only)\n",
    "def checkFreeMass(model, cytosol='cytosol'):\n",
    "\n",
    "    free = []\n",
    "    with model as m:\n",
    "    \n",
    "        # Close all exchanges\n",
    "        for rxn in m.boundary: m.reactions.get_by_id(rxn.id).lower_bound = 0.\n",
    "    \n",
    "        # Create demand for each reaction and optimize individually\n",
    "        reset_rxn = m.reactions[0].id\n",
    "        for cpd in m.metabolites: \n",
    "            if cpd.compartment == cytosol:\n",
    "                demand = cobra.Reaction('demand')\n",
    "                demand.bounds = (0., 1000.)\n",
    "                demand.add_metabolites({cpd: -1.0})\n",
    "                m.add_reactions([demand])\n",
    "                m.objective = demand\n",
    "                obj_val = m.slim_optimize()\n",
    "                if obj_val > 1e-8: free.append(cpd.id)\n",
    "                m.objective = reset_rxn\n",
    "                m.remove_reactions([demand])\n",
    "    \n",
    "    fraction = (float(len(free)) / float(len(model.metabolites))) * 100.\n",
    "    fraction = round(fraction, 2)\n",
    "    print(str(fraction) + '% metabolites are generated for free')\n",
    "\n",
    "    return(free)\n",
    "\n",
    "\n",
    "# Check for mass and charge balance in reactions\n",
    "def checkBalance(model):\n",
    "    \n",
    "    with model as m:\n",
    "\n",
    "        elements = set()\n",
    "        for cpd in m.metabolites:\n",
    "            try:\n",
    "                elements |= set(cpd.elements.keys())\n",
    "            except:\n",
    "                pass\n",
    "        \n",
    "        massImbal = []\n",
    "        failed = 0\n",
    "        if len(elements) == 0:\n",
    "            print('No elemental data associated with metabolites!')\n",
    "            failed = 1\n",
    "        else:\n",
    "            for rxn in m.reactions:\n",
    "                if rxn.annotation['sbo'] == 'SBO:0000629': \n",
    "                    continue\n",
    "                elif rxn in m.boundary:\n",
    "                    continue\n",
    "\n",
    "                try:\n",
    "                    test = rxn.check_mass_balance()\n",
    "                except ValueError:\n",
    "                    continue\n",
    "\n",
    "                if len(list(test)) > 0:\n",
    "                    if len(set(test.keys()).intersection(elements)) > 0: massImbal.append(rxn.id)\n",
    "                        \n",
    "    if failed != 1:\n",
    "        fraction = (float(len(massImbal)) / float(len(model.reactions))) * 100.\n",
    "        fraction = round(fraction, 2)\n",
    "        print(str(fraction) + '% reactions are mass imbalanced')\n",
    "        \n",
    "    return massImbal\n",
    "\n",
    "\n",
    "def basicCheck(model):\n",
    "    \n",
    "    # Determination\n",
    "    if len(model.reactions) < len(model.metabolites): \n",
    "        print('GENRE is overdetermined')\n",
    "    elif len(model.reactions) > len(model.metabolites):\n",
    "        print('GENRE is underdetermined')\n",
    "    else:\n",
    "        pass\n",
    "    \n",
    "    # Compartments\n",
    "    print('GENRE has ' + str(len(model.compartments.keys())) + ' compartment(s)')\n",
    "    \n",
    "    # Genes\n",
    "    if len(model.genes) == 0: \n",
    "        print('GENRE has no gene data')\n",
    "    else:\n",
    "        print('GENRE has ' + str(len(model.genes)) + ' genes')\n",
    "          \n",
    "    # Growth\n",
    "    doublingTime(model)\n",
    "\n"
   ]
  },
  {
   "cell_type": "code",
   "execution_count": 5,
   "metadata": {},
   "outputs": [],
   "source": [
    "# Open all exchange bounds\n",
    "for x in iYL1228.exchanges: x.bounds = (-1000., 1000.)"
   ]
  },
  {
   "cell_type": "code",
   "execution_count": 10,
   "metadata": {},
   "outputs": [
    {
     "name": "stdout",
     "output_type": "stream",
     "text": [
      "GENRE is underdetermined\n",
      "GENRE has 3 compartment(s)\n",
      "GENRE has 1229 genes\n",
      "53.94 minutes doubling time\n",
      "22.37% reactions are blocked\n",
      "0.0% metabolites are generated for free\n",
      "No elemental data associated with metabolites!\n",
      "3.86% reactions without GPRs\n",
      "2.63% of reactions used in pFBA solution have no GPR\n"
     ]
    }
   ],
   "source": [
    "basicCheck(iYL1228)\n",
    "draft_noGPRblocked = blockedReactions(iYL1228)\n",
    "draft_free = checkFreeMass(iYL1228)\n",
    "draft_massImbal = checkBalance(iYL1228)\n",
    "draft_nogene = missingGPR(iYL1228)"
   ]
  },
  {
   "cell_type": "code",
   "execution_count": null,
   "metadata": {},
   "outputs": [],
   "source": []
  },
  {
   "cell_type": "code",
   "execution_count": null,
   "metadata": {},
   "outputs": [],
   "source": []
  },
  {
   "cell_type": "code",
   "execution_count": 1,
   "metadata": {},
   "outputs": [],
   "source": [
    "from riptide import *"
   ]
  },
  {
   "cell_type": "code",
   "execution_count": 2,
   "metadata": {},
   "outputs": [],
   "source": [
    "iYL1228 = cobra.io.load_json_model('/home/mjenior/Desktop/repos/Klebsiella_2021/data/iYL1228.json')"
   ]
  },
  {
   "cell_type": "code",
   "execution_count": 3,
   "metadata": {},
   "outputs": [],
   "source": [
    "HBF_medium_open = {'EX_glc_e':-1000, 'EX_ala__L_e':-1000, 'EX_arg__L_e':-1000, 'EX_asp__L_e':-1000, 'EX_cys__L_e':-1000, \n",
    "             'EX_glu__L_e':-1000, 'EX_gly_e':-1000, 'EX_his__L_e':-1000, 'EX_ile__L_e':-1000, 'EX_leu__L_e':-1000, \n",
    "             'EX_lys__L_e':-1000, 'EX_met__L_e':-1000, 'EX_pro__L_e':-1000, 'EX_thr__L_e':-1000, 'EX_tyr__L_e':-1000, \n",
    "             'EX_phe__L_e':-1000, 'EX_ser__L_e':-1000, 'EX_trp__L_e':-1000, 'EX_val__L_e':-1000, 'EX_pnto_R_e':-1000, \n",
    "             'EX_nac_e':-1000, 'EX_na1_e':-1000, 'EX_cl_e':-1000, 'EX_so4_e':-1000, 'EX_k_e':-1000, \n",
    "             'EX_pi_e':-1000, 'EX_ca2_e':-1000, 'EX_mg2_e':-1000, 'EX_zn2_e':-1000, 'EX_aso3_e':-1000, \n",
    "             'EX_cd2_e':-1000, 'EX_hg2_e':-1000, 'EX_h_e':-1000, 'EX_h2o_e':-1000, 'EX_o2_e':-1000, \n",
    "             'EX_ins_e':-5, 'EX_hxan_e':-5, 'EX_dcyt_e':-5, 'EX_thymd_e':-5, 'EX_ura_e':-5, 'EX_uri_e':-1000, \n",
    "             'EX_dad_2_e':-5, 'EX_adn_e':-5, 'EX_co2_e':-1000, 'EX_cobalt2_e':-1000, 'EX_cu2_e':-1000, \n",
    "             'EX_fe2_e':-1000, 'EX_fe3_e':-1000, 'EX_mn2_e':-1000, 'EX_mobd_e':-1000, 'EX_tungs_e':-1000, \n",
    "             'EX_cbl1_e':-1000, 'EX_fru_e':-1000, 'EX_gal_e':-1000, 'EX_ni2_e':-1000, 'EX_sel_e':-1000, \n",
    "             'EX_slnt_e':-1000} \n",
    "\n",
    "HBF_medium = {'EX_glc_e':-5, 'EX_ala__L_e':-5, 'EX_arg__L_e':-5, 'EX_asp__L_e':-5, 'EX_cys__L_e':-5, \n",
    "             'EX_glu__L_e':-5, 'EX_gly_e':-5, 'EX_his__L_e':-5, 'EX_ile__L_e':-5, 'EX_leu__L_e':-5, \n",
    "             'EX_lys__L_e':-5, 'EX_met__L_e':-5, 'EX_pro__L_e':-5, 'EX_thr__L_e':-5, 'EX_tyr__L_e':-5, \n",
    "             'EX_phe__L_e':-5, 'EX_ser__L_e':-5, 'EX_trp__L_e':-5, 'EX_val__L_e':-5, 'EX_pnto_R_e':-5, \n",
    "             'EX_nac_e':-5, 'EX_na1_e':-1000, 'EX_cl_e':-1000, 'EX_so4_e':-1000, 'EX_k_e':-1000, \n",
    "             'EX_pi_e':-1000, 'EX_ca2_e':-1000, 'EX_mg2_e':-1000, 'EX_zn2_e':-1000, 'EX_aso3_e':-1000, \n",
    "             'EX_cd2_e':-1000, 'EX_hg2_e':-1000, 'EX_h_e':-100, 'EX_h2o_e':-100, 'EX_o2_e':-18.5, \n",
    "             'EX_ins_e':-5, 'EX_hxan_e':-5, 'EX_dcyt_e':-5, 'EX_thymd_e':-5, 'EX_ura_e':-5, 'EX_uri_e':-5, \n",
    "             'EX_dad_2_e':-5, 'EX_adn_e':-5, 'EX_co2_e':-1000, 'EX_cobalt2_e':-1000, 'EX_cu2_e':-1000, \n",
    "             'EX_fe2_e':-1000, 'EX_fe3_e':-1000, 'EX_mn2_e':-1000, 'EX_mobd_e':-1000, 'EX_tungs_e':-1000, \n",
    "             'EX_cbl1_e':-0.01, 'EX_fru_e':-5, 'EX_gal_e':-5, 'EX_ni2_e':-1000, 'EX_sel_e':-1000, \n",
    "             'EX_slnt_e':-1000} "
   ]
  },
  {
   "cell_type": "code",
   "execution_count": 4,
   "metadata": {},
   "outputs": [],
   "source": [
    "# Set media conditions\n",
    "for x in iYL1228.exchanges:\n",
    "    try:\n",
    "        x.bounds = (float(HBF_medium[x.id]), 1000.)\n",
    "    except:\n",
    "        x.bounds = (0., 1000.)"
   ]
  },
  {
   "cell_type": "code",
   "execution_count": 5,
   "metadata": {},
   "outputs": [],
   "source": [
    "clinical = riptide.read_transcription_file(file='/home/mjenior/Desktop/active_projects/klebsiella/data/transcript_mapping/clinical_replicates.tsv')"
   ]
  },
  {
   "cell_type": "code",
   "execution_count": 6,
   "metadata": {
    "scrolled": true
   },
   "outputs": [
    {
     "name": "stdout",
     "output_type": "stream",
     "text": [
      "\n",
      "Running max fit RIPTiDe for objective fraction range: 0.35 to 0.95 with intervals of 0.05 \n",
      "\n",
      "Testing minimum objective fractions...\n",
      "Fraction = 0.35 | Rho = 0.115 ; p = 0.0208\n",
      "Fraction = 0.4 | Rho = 0.107 ; p = 0.031\n",
      "Fraction = 0.45 | Rho = 0.118 ; p = 0.0172\n",
      "Fraction = 0.5 | Rho = 0.0671 ; p = 0.1759\n",
      "Fraction = 0.55 | Rho = 0.0639 ; p = 0.1994\n",
      "Fraction = 0.6 | Rho = 0.0794 ; p = 0.1112\n",
      "Fraction = 0.65 | Rho = 0.061 ; p = 0.2238\n",
      "Fraction = 0.7 | Rho = 0.0769 ; p = 0.1261\n",
      "Fraction = 0.75 | Rho = 0.1186 ; p = 0.0197\n",
      "Fraction = 0.8 | Rho = 0.1106 ; p = 0.0307\n",
      "Fraction = 0.85 | Rho = 0.1212 ; p = 0.0175\n",
      "Fraction = 0.9 | Rho = 0.1183 ; p = 0.0193\n",
      "Testing local objective fractions to 0.85...\n",
      "Fraction = 0.825 | Rho = 0.1178 ; p = 0.0215\n",
      "Fraction = 0.875 | Rho = 0.1081 ; p = 0.0343\n",
      "\n",
      "Context-specific metabolism fit with 0.85 of optimal objective flux\n",
      "\n",
      "Reactions pruned to 384 from 2262 (83.02% change)\n",
      "Metabolites pruned to 354 from 1658 (78.65% change)\n",
      "Flux through the objective DECREASED to ~2.58 from ~2.72 (5.15% change)\n",
      "Context-specific metabolism correlates with transcriptome (r=0.121, p=0.017 *)\n",
      "\n",
      "Maxfit RIPTiDe completed in, 102 minutes and 11 seconds \n",
      "\n"
     ]
    }
   ],
   "source": [
    "iYL1228_clinical = riptide.maxfit_contextualize(model=iYL1228, transcriptome=clinical)"
   ]
  },
  {
   "cell_type": "code",
   "execution_count": 7,
   "metadata": {},
   "outputs": [],
   "source": [
    "riptide.save_output(iYL1228_clinical, path='/home/mjenior/Desktop/repos/Klebsiella_2021/data/clinical_maxfit_reps')"
   ]
  },
  {
   "cell_type": "code",
   "execution_count": 5,
   "metadata": {},
   "outputs": [],
   "source": [
    "laboratory = read_transcription_file(file='/home/mjenior/Desktop/active_projects/klebsiella/data/transcript_mapping/laboratory_replicates.tsv')"
   ]
  },
  {
   "cell_type": "code",
   "execution_count": null,
   "metadata": {},
   "outputs": [],
   "source": [
    "iYL1228_laboratory = riptide.maxfit_contextualize(model=iYL1228, transcriptome=laboratory)"
   ]
  },
  {
   "cell_type": "code",
   "execution_count": null,
   "metadata": {},
   "outputs": [],
   "source": [
    "# Save output\n",
    "riptide.save_output(iYL1228_laboratory, path='/home/mjenior/Desktop/repos/Klebsiella_2021/data/laboratory_maxfit_reps')"
   ]
  },
  {
   "cell_type": "code",
   "execution_count": null,
   "metadata": {},
   "outputs": [],
   "source": []
  },
  {
   "cell_type": "code",
   "execution_count": null,
   "metadata": {},
   "outputs": [],
   "source": []
  },
  {
   "cell_type": "code",
   "execution_count": null,
   "metadata": {},
   "outputs": [],
   "source": []
  },
  {
   "cell_type": "code",
   "execution_count": 11,
   "metadata": {},
   "outputs": [],
   "source": [
    "iYL1228_clinical = cobra.io.read_sbml_model('/home/mjenior/Desktop/repos/Klebsiella_2021/data/clinical_maxfit_reps/model.sbml')\n",
    "iYL1228_laboratory = cobra.io.read_sbml_model('/home/mjenior/Desktop/repos/Klebsiella_2021/data/laboratory_maxfit_reps/model.sbml')"
   ]
  },
  {
   "cell_type": "code",
   "execution_count": null,
   "metadata": {},
   "outputs": [],
   "source": [
    "iYL1228_clinical.model"
   ]
  },
  {
   "cell_type": "code",
   "execution_count": null,
   "metadata": {},
   "outputs": [],
   "source": [
    "iYL1228_laboratory.model"
   ]
  },
  {
   "cell_type": "code",
   "execution_count": null,
   "metadata": {},
   "outputs": [],
   "source": [
    "clinical_rxns = set([x.id for x in iYL1228_clinical.model.reactions])\n",
    "laboratory_rxns = set([y.id for y in iYL1228_laboratory.model.reactions])\n",
    "\n",
    "clinical_only_rxns = clinical_rxns.difference(laboratory_rxns)\n",
    "print('Clinical only:',len(clinical_only_rxns))\n",
    "laboratory_only_rxns = laboratory_rxns.difference(clinical_rxns)\n",
    "print('Laboratory only:',len(laboratory_only_rxns))"
   ]
  },
  {
   "cell_type": "code",
   "execution_count": null,
   "metadata": {},
   "outputs": [],
   "source": [
    "for x in clinical_only_rxns: print(x, iYL1228.reactions.get_by_id(x).name)"
   ]
  },
  {
   "cell_type": "code",
   "execution_count": null,
   "metadata": {},
   "outputs": [],
   "source": [
    "for x in laboratory_only_rxns: print(x, iYL1228.reactions.get_by_id(x).name)"
   ]
  },
  {
   "cell_type": "code",
   "execution_count": null,
   "metadata": {},
   "outputs": [],
   "source": []
  },
  {
   "cell_type": "code",
   "execution_count": null,
   "metadata": {},
   "outputs": [],
   "source": []
  },
  {
   "cell_type": "code",
   "execution_count": 15,
   "metadata": {},
   "outputs": [
    {
     "name": "stdout",
     "output_type": "stream",
     "text": [
      "60 core essential genes found\n"
     ]
    }
   ],
   "source": [
    "minGrowth = iYL1228.slim_optimize() * 0.01\n",
    "core_essential_genes = find_essential_genes(iYL1228, threshold=minGrowth)\n",
    "core_essential_genes = set([x.id for x in core_essential_genes])\n",
    "print(str(len(core_essential_genes)) + ' core essential genes found')"
   ]
  },
  {
   "cell_type": "code",
   "execution_count": 16,
   "metadata": {},
   "outputs": [
    {
     "name": "stdout",
     "output_type": "stream",
     "text": [
      "85 clinical context-specific essential genes found\n"
     ]
    }
   ],
   "source": [
    "minGrowth = iYL1228_clinical.slim_optimize() * 0.01\n",
    "clinical_essential_genes = find_essential_genes(iYL1228_clinical, threshold=minGrowth)\n",
    "clinical_essential_genes = set([x.id for x in clinical_essential_genes]).difference(core_essential_genes)\n",
    "print(str(len(clinical_essential_genes)) + ' clinical context-specific essential genes found')"
   ]
  },
  {
   "cell_type": "code",
   "execution_count": 17,
   "metadata": {},
   "outputs": [
    {
     "name": "stdout",
     "output_type": "stream",
     "text": [
      "90 laboratory context-specific essential genes found\n"
     ]
    }
   ],
   "source": [
    "minGrowth = iYL1228_laboratory.slim_optimize() * 0.01\n",
    "laboratory_essential_genes = find_essential_genes(iYL1228_laboratory, threshold=minGrowth)\n",
    "laboratory_essential_genes = set([x.id for x in laboratory_essential_genes]).difference(core_essential_genes)\n",
    "print(str(len(laboratory_essential_genes)) + ' laboratory context-specific essential genes found')"
   ]
  },
  {
   "cell_type": "code",
   "execution_count": 18,
   "metadata": {},
   "outputs": [
    {
     "name": "stdout",
     "output_type": "stream",
     "text": [
      "17 clinical-only context-specific essential genes found\n",
      "22 laboratory-only context-specific essential genes found\n"
     ]
    }
   ],
   "source": [
    "clinical_only_essential_genes = clinical_essential_genes.difference(laboratory_essential_genes)\n",
    "print(str(len(clinical_only_essential_genes)) + ' clinical-only context-specific essential genes found')\n",
    "laboratory_only_essential_genes = laboratory_essential_genes.difference(clinical_essential_genes)\n",
    "print(str(len(laboratory_only_essential_genes)) + ' laboratory-only context-specific essential genes found')"
   ]
  },
  {
   "cell_type": "code",
   "execution_count": 19,
   "metadata": {},
   "outputs": [
    {
     "name": "stdout",
     "output_type": "stream",
     "text": [
      "KPN_03056 hycG\n",
      "KPN_03757 rpe\n",
      "KPN_03517 ygjU\n",
      "KPN_03059 hycD\n",
      "KPN_01032 ycdG\n",
      "KPN_03058 hycE\n",
      "KPN_03061 hycB\n",
      "KPN_00795 \n",
      "KPN_03060 hycC\n",
      "KPN_00793 hutG\n",
      "KPN_03057 hycF\n",
      "KPN_01770 \n",
      "KPN_04327 udp\n",
      "KPN_00796 hutH\n",
      "KPN_00007 yaaJ\n",
      "KPN_04482 fdhF\n",
      "KPN_00792 hutI\n"
     ]
    }
   ],
   "source": [
    "for x in clinical_only_essential_genes: print(x, iYL1228.genes.get_by_id(x).name)"
   ]
  },
  {
   "cell_type": "code",
   "execution_count": 20,
   "metadata": {},
   "outputs": [
    {
     "name": "stdout",
     "output_type": "stream",
     "text": [
      "KPN_04843 serB\n",
      "KPN_02335 manZ\n",
      "KPN_00731 sdhB\n",
      "KPN_00733 sucB\n",
      "KPN_02762 ptsH\n",
      "KPN_02334 manY\n",
      "KPN_00735 sucD\n",
      "KPN_04840 deoD\n",
      "KPN_00728 sdhC\n",
      "KPN_02797 maeB\n",
      "KPN_00732 sucA\n",
      "KPN_04013 yicE\n",
      "KPN_03644 mdh\n",
      "KPN_02333 manX\n",
      "KPN_03348 serA\n",
      "KPN_00909 aqpZ\n",
      "KPN_02763 ptsI\n",
      "KPN_00729 sdhD\n",
      "KPN_00734 sucC\n",
      "KPN_00935 serC\n",
      "KPN_00730 sdhA\n",
      "KPN_04837 deoC\n"
     ]
    }
   ],
   "source": [
    "for x in laboratory_only_essential_genes: print(x, iYL1228.genes.get_by_id(x).name)"
   ]
  },
  {
   "cell_type": "code",
   "execution_count": 25,
   "metadata": {},
   "outputs": [
    {
     "data": {
      "text/html": [
       "\n",
       "        <table>\n",
       "            <tr>\n",
       "                <td><strong>Gene identifier</strong></td><td>KPN_00793</td>\n",
       "            </tr><tr>\n",
       "                <td><strong>Name</strong></td><td>hutG</td>\n",
       "            </tr><tr>\n",
       "                <td><strong>Memory address</strong></td>\n",
       "                <td>0x07fe08d9157d0</td>\n",
       "            </tr><tr>\n",
       "                <td><strong>Functional</strong></td><td>True</td>\n",
       "            </tr><tr>\n",
       "                <td><strong>In 1 reaction(s)</strong></td><td>\n",
       "                    FGLU</td>\n",
       "            </tr>\n",
       "        </table>"
      ],
      "text/plain": [
       "<Gene KPN_00793 at 0x7fe08d9157d0>"
      ]
     },
     "execution_count": 25,
     "metadata": {},
     "output_type": "execute_result"
    }
   ],
   "source": [
    "iYL1228.genes.get_by_id('KPN_00793')"
   ]
  },
  {
   "cell_type": "code",
   "execution_count": 26,
   "metadata": {},
   "outputs": [
    {
     "data": {
      "text/html": [
       "\n",
       "        <table>\n",
       "            <tr>\n",
       "                <td><strong>Reaction identifier</strong></td><td>FGLU</td>\n",
       "            </tr><tr>\n",
       "                <td><strong>Name</strong></td><td>Formimidoylglutamase</td>\n",
       "            </tr><tr>\n",
       "                <td><strong>Memory address</strong></td>\n",
       "                <td>0x07fe08cda7fd0</td>\n",
       "            </tr><tr>\n",
       "                <td><strong>Stoichiometry</strong></td>\n",
       "                <td>\n",
       "                    <p style='text-align:right'>forglu_c + h2o_c + h_c --> frmd_c + glu__L_c</p>\n",
       "                    <p style='text-align:right'>N-Formimidoyl-L-glutamate + H2O H2O + H+ --> Formamide + L-Glutamate</p>\n",
       "                </td>\n",
       "            </tr><tr>\n",
       "                <td><strong>GPR</strong></td><td>KPN_00793</td>\n",
       "            </tr><tr>\n",
       "                <td><strong>Lower bound</strong></td><td>0.0</td>\n",
       "            </tr><tr>\n",
       "                <td><strong>Upper bound</strong></td><td>1000.0</td>\n",
       "            </tr>\n",
       "        </table>\n",
       "        "
      ],
      "text/plain": [
       "<Reaction FGLU at 0x7fe08cda7fd0>"
      ]
     },
     "execution_count": 26,
     "metadata": {},
     "output_type": "execute_result"
    }
   ],
   "source": [
    "iYL1228.reactions.FGLU"
   ]
  },
  {
   "cell_type": "code",
   "execution_count": null,
   "metadata": {},
   "outputs": [],
   "source": []
  }
 ],
 "metadata": {
  "kernelspec": {
   "display_name": "Python 3",
   "language": "python",
   "name": "python3"
  },
  "language_info": {
   "codemirror_mode": {
    "name": "ipython",
    "version": 3
   },
   "file_extension": ".py",
   "mimetype": "text/x-python",
   "name": "python",
   "nbconvert_exporter": "python",
   "pygments_lexer": "ipython3",
   "version": "3.7.5"
  }
 },
 "nbformat": 4,
 "nbformat_minor": 2
}
