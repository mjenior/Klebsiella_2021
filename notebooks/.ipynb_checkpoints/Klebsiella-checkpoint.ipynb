{
 "cells": [
  {
   "cell_type": "code",
   "execution_count": 1,
   "metadata": {},
   "outputs": [],
   "source": [
    "import cobra\n",
    "from cobra.flux_analysis import parsimonious\n",
    "from cobra.flux_analysis.variability import find_essential_genes, find_essential_reactions\n",
    "from cobra.medium.minimal_medium import minimal_medium"
   ]
  },
  {
   "cell_type": "code",
   "execution_count": 4,
   "metadata": {},
   "outputs": [],
   "source": [
    "iYL1228 = cobra.io.load_json_model('/home/mjenior/Desktop/repos/Klebsiella_2021/data/iYL1228.json')"
   ]
  },
  {
   "cell_type": "code",
   "execution_count": 27,
   "metadata": {},
   "outputs": [],
   "source": [
    "KPN_loci = []\n",
    "for x in iYL1228.genes:\n",
    "    locus = x.id\n",
    "    locus = locus.split('_')[1]\n",
    "    KPN_loci.append(locus)\n",
    "KPN_loci = set(KPN_loci)\n",
    "\n",
    "KPHS_loci = []\n",
    "with open('sequence.txt', 'r') as inFile:\n",
    "    for line in inFile:\n",
    "        if not line[0] == '>':\n",
    "            continue\n",
    "        else:\n",
    "            locus = line.split()[1]\n",
    "            locus = locus.split('=')[1]\n",
    "            locus = locus.rstrip(']')\n",
    "            locus = locus.split('_')[1]\n",
    "            KPHS_loci.append(locus)\n",
    "KPHS_loci = set(KPHS_loci)"
   ]
  },
  {
   "cell_type": "code",
   "execution_count": 1,
   "metadata": {},
   "outputs": [],
   "source": [
    "# Function to calculate doubling time from objective value\n",
    "def doublingTime(model):\n",
    "    with model as m:\n",
    "        if m.slim_optimize(error_value=0.) < 1e-6:\n",
    "            print('GENRE has no objective flux')\n",
    "        else:\n",
    "            growth = (1. / float(m.slim_optimize())) * 3600.\n",
    "            print(str(round(growth, 2)) + ' minutes doubling time')\n",
    "\n",
    "\n",
    "# Identifies blocked reactions, 1% cutoff for fraction of optimum\n",
    "def blockedReactions(model):\n",
    "    \n",
    "    with model as m:\n",
    "        blocked = cobra.flux_analysis.variability.find_blocked_reactions(m)\n",
    "        nogene_blocked = []\n",
    "        for rxn in blocked:\n",
    "            if m.reactions.get_by_id(rxn).gene_reaction_rule == '':\n",
    "                nogene_blocked.append(rxn)\n",
    "\n",
    "    #print(str(len(blocked)) + ' total reactions are blocked')\n",
    "    fraction = (float(len(blocked)) / float(len(model.reactions))) * 100.\n",
    "    fraction = round(fraction, 2)\n",
    "    print(str(fraction) + '% reactions are blocked')\n",
    "    \n",
    "    return blocked\n",
    "\n",
    "\n",
    "# Identify potentially gapfilled reactions, checks against pFBA solution\n",
    "def missingGPR(model):\n",
    "    \n",
    "    noGene = []\n",
    "    exclude = []\n",
    "    for rxn in model.reactions:\n",
    "        if len(list(rxn.genes)) == 0:\n",
    "            if rxn.annotation['sbo'] != 'SBO:0000629':\n",
    "                if rxn in model.boundary:\n",
    "                    exclude.append(rxn.id)\n",
    "                    continue\n",
    "                else:\n",
    "                    noGene.append(rxn.id)\n",
    "    \n",
    "    solution = parsimonious.pfba(model)\n",
    "    active_rxns = set([rxn.id for rxn in model.reactions if abs(solution.fluxes[rxn.id]) > 1e-5])\n",
    "    active_rxns = active_rxns.difference(set(exclude))\n",
    "    noGene_active = set(noGene).intersection(active_rxns)\n",
    "\n",
    "    fraction = float(len(model.reactions)) - float(len(exclude))\n",
    "    fraction = (float(len(noGene)) / fraction) * 100.\n",
    "    fraction = round(fraction, 2)\n",
    "    print(str(fraction) + '% reactions without GPRs')\n",
    "    \n",
    "    fraction = (float(len(noGene_active)) / float(len(active_rxns))) * 100.\n",
    "    fraction = round(fraction, 2)\n",
    "    print(str(fraction) + '% of reactions used in pFBA solution have no GPR')\n",
    "    \n",
    "    return noGene_active\n",
    "\n",
    "\n",
    "# Checks which cytosolic metabolites are generated for free (bacteria only)\n",
    "def checkFreeMass(model, cytosol='cytosol'):\n",
    "\n",
    "    free = []\n",
    "    with model as m:\n",
    "    \n",
    "        # Close all exchanges\n",
    "        for rxn in m.boundary: m.reactions.get_by_id(rxn.id).lower_bound = 0.\n",
    "    \n",
    "        # Create demand for each reaction and optimize individually\n",
    "        reset_rxn = m.reactions[0].id\n",
    "        for cpd in m.metabolites: \n",
    "            if cpd.compartment == cytosol:\n",
    "                demand = cobra.Reaction('demand')\n",
    "                demand.bounds = (0., 1000.)\n",
    "                demand.add_metabolites({cpd: -1.0})\n",
    "                m.add_reactions([demand])\n",
    "                m.objective = demand\n",
    "                obj_val = m.slim_optimize()\n",
    "                if obj_val > 1e-8: free.append(cpd.id)\n",
    "                m.objective = reset_rxn\n",
    "                m.remove_reactions([demand])\n",
    "    \n",
    "    fraction = (float(len(free)) / float(len(model.metabolites))) * 100.\n",
    "    fraction = round(fraction, 2)\n",
    "    print(str(fraction) + '% metabolites are generated for free')\n",
    "\n",
    "    return(free)\n",
    "\n",
    "\n",
    "# Check for mass and charge balance in reactions\n",
    "def checkBalance(model):\n",
    "    \n",
    "    with model as m:\n",
    "\n",
    "        elements = set()\n",
    "        for cpd in m.metabolites:\n",
    "            try:\n",
    "                elements |= set(cpd.elements.keys())\n",
    "            except:\n",
    "                pass\n",
    "        \n",
    "        massImbal = []\n",
    "        failed = 0\n",
    "        if len(elements) == 0:\n",
    "            print('No elemental data associated with metabolites!')\n",
    "            failed = 1\n",
    "        else:\n",
    "            for rxn in m.reactions:\n",
    "                if rxn.annotation['sbo'] == 'SBO:0000629': \n",
    "                    continue\n",
    "                elif rxn in m.boundary:\n",
    "                    continue\n",
    "\n",
    "                try:\n",
    "                    test = rxn.check_mass_balance()\n",
    "                except ValueError:\n",
    "                    continue\n",
    "\n",
    "                if len(list(test)) > 0:\n",
    "                    if len(set(test.keys()).intersection(elements)) > 0: massImbal.append(rxn.id)\n",
    "                        \n",
    "    if failed != 1:\n",
    "        fraction = (float(len(massImbal)) / float(len(model.reactions))) * 100.\n",
    "        fraction = round(fraction, 2)\n",
    "        print(str(fraction) + '% reactions are mass imbalanced')\n",
    "        \n",
    "    return massImbal\n",
    "\n",
    "\n",
    "def basicCheck(model):\n",
    "    \n",
    "    # Determination\n",
    "    if len(model.reactions) < len(model.metabolites): \n",
    "        print('GENRE is overdetermined')\n",
    "    elif len(model.reactions) > len(model.metabolites):\n",
    "        print('GENRE is underdetermined')\n",
    "    else:\n",
    "        pass\n",
    "    \n",
    "    # Compartments\n",
    "    print('GENRE has ' + str(len(model.compartments.keys())) + ' compartment(s)')\n",
    "    \n",
    "    # Genes\n",
    "    if len(model.genes) == 0: \n",
    "        print('GENRE has no gene data')\n",
    "    else:\n",
    "        print('GENRE has ' + str(len(model.genes)) + ' genes')\n",
    "          \n",
    "    # Growth\n",
    "    doublingTime(model)\n",
    "\n"
   ]
  },
  {
   "cell_type": "code",
   "execution_count": 5,
   "metadata": {},
   "outputs": [],
   "source": [
    "# Open all exchange bounds\n",
    "for x in iYL1228.exchanges: x.bounds = (-1000., 1000.)"
   ]
  },
  {
   "cell_type": "code",
   "execution_count": 10,
   "metadata": {},
   "outputs": [
    {
     "name": "stdout",
     "output_type": "stream",
     "text": [
      "GENRE is underdetermined\n",
      "GENRE has 3 compartment(s)\n",
      "GENRE has 1229 genes\n",
      "53.94 minutes doubling time\n",
      "22.37% reactions are blocked\n",
      "0.0% metabolites are generated for free\n",
      "No elemental data associated with metabolites!\n",
      "3.86% reactions without GPRs\n",
      "2.63% of reactions used in pFBA solution have no GPR\n"
     ]
    }
   ],
   "source": [
    "basicCheck(iYL1228)\n",
    "draft_noGPRblocked = blockedReactions(iYL1228)\n",
    "draft_free = checkFreeMass(iYL1228)\n",
    "draft_massImbal = checkBalance(iYL1228)\n",
    "draft_nogene = missingGPR(iYL1228)"
   ]
  },
  {
   "cell_type": "code",
   "execution_count": null,
   "metadata": {},
   "outputs": [],
   "source": []
  },
  {
   "cell_type": "code",
   "execution_count": 1,
   "metadata": {},
   "outputs": [],
   "source": [
    "from riptide import *"
   ]
  },
  {
   "cell_type": "code",
   "execution_count": 2,
   "metadata": {},
   "outputs": [],
   "source": [
    "iYL1228 = cobra.io.load_json_model('/home/mjenior/Desktop/repos/Klebsiella_2021/data/iYL1228.json')"
   ]
  },
  {
   "cell_type": "code",
   "execution_count": 22,
   "metadata": {},
   "outputs": [],
   "source": [
    "HBF_medium_open = {'EX_glc_e':-1000, 'EX_ala__L_e':-1000, 'EX_arg__L_e':-1000, 'EX_asp__L_e':-1000, 'EX_cys__L_e':-1000, \n",
    "             'EX_glu__L_e':-1000, 'EX_gly_e':-1000, 'EX_his__L_e':-1000, 'EX_ile__L_e':-1000, 'EX_leu__L_e':-1000, \n",
    "             'EX_lys__L_e':-1000, 'EX_met__L_e':-1000, 'EX_pro__L_e':-1000, 'EX_thr__L_e':-1000, 'EX_tyr__L_e':-1000, \n",
    "             'EX_phe__L_e':-1000, 'EX_ser__L_e':-1000, 'EX_trp__L_e':-1000, 'EX_val__L_e':-1000, 'EX_pnto_R_e':-1000, \n",
    "             'EX_nac_e':-1000, 'EX_na1_e':-1000, 'EX_cl_e':-1000, 'EX_so4_e':-1000, 'EX_k_e':-1000, \n",
    "             'EX_pi_e':-1000, 'EX_ca2_e':-1000, 'EX_mg2_e':-1000, 'EX_zn2_e':-1000, 'EX_aso3_e':-1000, \n",
    "             'EX_cd2_e':-1000, 'EX_hg2_e':-1000, 'EX_h_e':-1000, 'EX_h2o_e':-1000, 'EX_o2_e':-1000, \n",
    "             'EX_ins_e':-5, 'EX_hxan_e':-5, 'EX_dcyt_e':-5, 'EX_thymd_e':-5, 'EX_ura_e':-5, 'EX_uri_e':-1000, \n",
    "             'EX_dad_2_e':-5, 'EX_adn_e':-5, 'EX_co2_e':-1000, 'EX_cobalt2_e':-1000, 'EX_cu2_e':-1000, \n",
    "             'EX_fe2_e':-1000, 'EX_fe3_e':-1000, 'EX_mn2_e':-1000, 'EX_mobd_e':-1000, 'EX_tungs_e':-1000, \n",
    "             'EX_cbl1_e':-1000, 'EX_fru_e':-1000, 'EX_gal_e':-1000, 'EX_ni2_e':-1000, 'EX_sel_e':-1000, \n",
    "             'EX_slnt_e':-1000} \n",
    "\n",
    "HBF_medium = {'EX_glc_e':-5, 'EX_ala__L_e':-5, 'EX_arg__L_e':-5, 'EX_asp__L_e':-5, 'EX_cys__L_e':-5, \n",
    "             'EX_glu__L_e':-5, 'EX_gly_e':-5, 'EX_his__L_e':-5, 'EX_ile__L_e':-5, 'EX_leu__L_e':-5, \n",
    "             'EX_lys__L_e':-5, 'EX_met__L_e':-5, 'EX_pro__L_e':-5, 'EX_thr__L_e':-5, 'EX_tyr__L_e':-5, \n",
    "             'EX_phe__L_e':-5, 'EX_ser__L_e':-5, 'EX_trp__L_e':-5, 'EX_val__L_e':-5, 'EX_pnto_R_e':-5, \n",
    "             'EX_nac_e':-5, 'EX_na1_e':-1000, 'EX_cl_e':-1000, 'EX_so4_e':-1000, 'EX_k_e':-1000, \n",
    "             'EX_pi_e':-1000, 'EX_ca2_e':-1000, 'EX_mg2_e':-1000, 'EX_zn2_e':-1000, 'EX_aso3_e':-1000, \n",
    "             'EX_cd2_e':-1000, 'EX_hg2_e':-1000, 'EX_h_e':-100, 'EX_h2o_e':-100, 'EX_o2_e':-18.5, \n",
    "             'EX_ins_e':-5, 'EX_hxan_e':-5, 'EX_dcyt_e':-5, 'EX_thymd_e':-5, 'EX_ura_e':-5, 'EX_uri_e':-5, \n",
    "             'EX_dad_2_e':-5, 'EX_adn_e':-5, 'EX_co2_e':-1000, 'EX_cobalt2_e':-1000, 'EX_cu2_e':-1000, \n",
    "             'EX_fe2_e':-1000, 'EX_fe3_e':-1000, 'EX_mn2_e':-1000, 'EX_mobd_e':-1000, 'EX_tungs_e':-1000, \n",
    "             'EX_cbl1_e':-0.01, 'EX_fru_e':-5, 'EX_gal_e':-5, 'EX_ni2_e':-1000, 'EX_sel_e':-1000, \n",
    "             'EX_slnt_e':-1000} "
   ]
  },
  {
   "cell_type": "code",
   "execution_count": 4,
   "metadata": {},
   "outputs": [],
   "source": [
    "# Set media conditions\n",
    "for x in iYL1228.exchanges:\n",
    "    try:\n",
    "        x.bounds = (float(HBF_medium[x.id]), 1000.)\n",
    "    except:\n",
    "        x.bounds = (0., 1000.)"
   ]
  },
  {
   "cell_type": "code",
   "execution_count": 5,
   "metadata": {},
   "outputs": [],
   "source": [
    "clinical = riptide.read_transcription_file(file='/home/mjenior/Desktop/active_projects/klebsiella/data/transcript_mapping/clinical_median_transript.tsv')\n",
    "laboratory = riptide.read_transcription_file(file='/home/mjenior/Desktop/active_projects/klebsiella/data/transcript_mapping/laboratory_median_transript.tsv')"
   ]
  },
  {
   "cell_type": "code",
   "execution_count": 6,
   "metadata": {},
   "outputs": [
    {
     "name": "stdout",
     "output_type": "stream",
     "text": [
      "\n",
      "Running max fit RIPTiDe for objective fraction range: 0.35 to 0.95 with intervals of 0.05 \n",
      "\n",
      "Testing minimum objective fractions...\n",
      "Fraction = 0.35 | Rho = 0.1661 ; p = 0.0044\n",
      "Fraction = 0.4 | Rho = 0.1716 ; p = 0.0032\n",
      "Fraction = 0.45 | Rho = 0.166 ; p = 0.0043\n",
      "Fraction = 0.5 | Rho = 0.1839 ; p = 0.0013\n",
      "Fraction = 0.55 | Rho = 0.1194 ; p = 0.0378\n",
      "Fraction = 0.6 | Rho = 0.1573 ; p = 0.0061\n",
      "Fraction = 0.65 | Rho = 0.1393 ; p = 0.0151\n",
      "Fraction = 0.7 | Rho = 0.1298 ; p = 0.0234\n",
      "Fraction = 0.75 | Rho = 0.1344 ; p = 0.0182\n",
      "Fraction = 0.8 | Rho = 0.1452 ; p = 0.0102\n",
      "Fraction = 0.85 | Rho = 0.1541 ; p = 0.0057\n",
      "Fraction = 0.9 | Rho = 0.1421 ; p = 0.0099\n",
      "Testing local objective fractions to 0.5...\n",
      "Fraction = 0.475 | Rho = 0.1731 ; p = 0.0025\n",
      "Fraction = 0.525 | Rho = 0.1149 ; p = 0.0461\n",
      "\n",
      "Context-specific metabolism fit with 0.5 of optimal objective flux\n",
      "\n",
      "Reactions pruned to 302 from 2262 (86.65% change)\n",
      "Metabolites pruned to 306 from 1658 (81.54% change)\n",
      "Flux through the objective DECREASED to ~1.38 from ~2.72 (49.26% change)\n",
      "Context-specific metabolism correlates with transcriptome (r=0.184, p=0.001 *)\n",
      "\n",
      "Maxfit RIPTiDe completed in, 5 minutes and 38 seconds \n",
      "\n",
      "\n",
      "Running max fit RIPTiDe for objective fraction range: 0.35 to 0.95 with intervals of 0.05 \n",
      "\n",
      "Testing minimum objective fractions...\n",
      "Fraction = 0.35 | Rho = 0.1574 ; p = 0.0072\n",
      "Fraction = 0.4 | Rho = 0.1535 ; p = 0.008\n",
      "Fraction = 0.45 | Rho = 0.1528 ; p = 0.0089\n",
      "Fraction = 0.5 | Rho = 0.1487 ; p = 0.01\n",
      "Fraction = 0.55 | Rho = 0.1385 ; p = 0.0169\n",
      "Fraction = 0.6 | Rho = 0.1278 ; p = 0.0274\n",
      "Fraction = 0.65 | Rho = 0.139 ; p = 0.0158\n",
      "Fraction = 0.7 | Rho = 0.1447 ; p = 0.0117\n",
      "Fraction = 0.75 | Rho = 0.1325 ; p = 0.0198\n",
      "Fraction = 0.8 | Rho = 0.153 ; p = 0.0068\n",
      "Fraction = 0.85 | Rho = 0.1465 ; p = 0.0086\n",
      "Fraction = 0.9 | Rho = 0.1421 ; p = 0.01\n",
      "Testing local objective fractions to 0.35...\n",
      "Fraction = 0.325 | Rho = 0.1579 ; p = 0.007\n",
      "Fraction = 0.375 | Rho = 0.1518 ; p = 0.0088\n",
      "\n",
      "Context-specific metabolism fit with 0.325 of optimal objective flux\n",
      "\n",
      "Reactions pruned to 290 from 2262 (87.18% change)\n",
      "Metabolites pruned to 296 from 1658 (82.15% change)\n",
      "Flux through the objective DECREASED to ~0.97 from ~2.72 (64.34% change)\n",
      "Context-specific metabolism correlates with transcriptome (r=0.158, p=0.007 *)\n",
      "\n",
      "Maxfit RIPTiDe completed in, 5 minutes and 40 seconds \n",
      "\n"
     ]
    }
   ],
   "source": [
    "iYL1228_clinical = riptide.maxfit_contextualize(model=iYL1228, transcriptome=clinical)\n",
    "iYL1228_laboratory = riptide.maxfit_contextualize(model=iYL1228, transcriptome=laboratory)"
   ]
  },
  {
   "cell_type": "code",
   "execution_count": 8,
   "metadata": {},
   "outputs": [],
   "source": [
    "# Save output\n",
    "riptide.save_output(iYL1228_clinical, path='/home/mjenior/Desktop/repos/Klebsiella_2021/data/clinical_maxfit')\n",
    "riptide.save_output(iYL1228_laboratory, path='/home/mjenior/Desktop/repos/Klebsiella_2021/data/laboratory_maxfit')"
   ]
  },
  {
   "cell_type": "code",
   "execution_count": 16,
   "metadata": {},
   "outputs": [
    {
     "data": {
      "text/html": [
       "\n",
       "        <table>\n",
       "            <tr>\n",
       "                <td><strong>Name</strong></td>\n",
       "                <td>iYL1228_riptide</td>\n",
       "            </tr><tr>\n",
       "                <td><strong>Memory address</strong></td>\n",
       "                <td>0x07f89e55d5e10</td>\n",
       "            </tr><tr>\n",
       "                <td><strong>Number of metabolites</strong></td>\n",
       "                <td>306</td>\n",
       "            </tr><tr>\n",
       "                <td><strong>Number of reactions</strong></td>\n",
       "                <td>302</td>\n",
       "            </tr><tr>\n",
       "                <td><strong>Number of groups</strong></td>\n",
       "                <td>0</td>\n",
       "            </tr><tr>\n",
       "                <td><strong>Objective expression</strong></td>\n",
       "                <td>0.0 + 1.0*BIOMASS_ - 1.0*BIOMASS__reverse_091e5</td>\n",
       "            </tr><tr>\n",
       "                <td><strong>Compartments</strong></td>\n",
       "                <td>cytosol, extracellular space, periplasm</td>\n",
       "            </tr>\n",
       "          </table>"
      ],
      "text/plain": [
       "<Model iYL1228_riptide at 0x7f89e55d5e10>"
      ]
     },
     "execution_count": 16,
     "metadata": {},
     "output_type": "execute_result"
    }
   ],
   "source": [
    "iYL1228_clinical.model"
   ]
  },
  {
   "cell_type": "code",
   "execution_count": 17,
   "metadata": {},
   "outputs": [
    {
     "data": {
      "text/html": [
       "\n",
       "        <table>\n",
       "            <tr>\n",
       "                <td><strong>Name</strong></td>\n",
       "                <td>iYL1228_riptide</td>\n",
       "            </tr><tr>\n",
       "                <td><strong>Memory address</strong></td>\n",
       "                <td>0x07f89cef4d590</td>\n",
       "            </tr><tr>\n",
       "                <td><strong>Number of metabolites</strong></td>\n",
       "                <td>296</td>\n",
       "            </tr><tr>\n",
       "                <td><strong>Number of reactions</strong></td>\n",
       "                <td>290</td>\n",
       "            </tr><tr>\n",
       "                <td><strong>Number of groups</strong></td>\n",
       "                <td>0</td>\n",
       "            </tr><tr>\n",
       "                <td><strong>Objective expression</strong></td>\n",
       "                <td>0.0 + 1.0*BIOMASS_ - 1.0*BIOMASS__reverse_091e5</td>\n",
       "            </tr><tr>\n",
       "                <td><strong>Compartments</strong></td>\n",
       "                <td>cytosol, extracellular space, periplasm</td>\n",
       "            </tr>\n",
       "          </table>"
      ],
      "text/plain": [
       "<Model iYL1228_riptide at 0x7f89cef4d590>"
      ]
     },
     "execution_count": 17,
     "metadata": {},
     "output_type": "execute_result"
    }
   ],
   "source": [
    "iYL1228_laboratory.model"
   ]
  },
  {
   "cell_type": "code",
   "execution_count": 10,
   "metadata": {},
   "outputs": [
    {
     "name": "stdout",
     "output_type": "stream",
     "text": [
      "Clinical only: 40\n",
      "Laboratory only: 28\n"
     ]
    }
   ],
   "source": [
    "clinical_rxns = set([x.id for x in iYL1228_clinical.model.reactions])\n",
    "laboratory_rxns = set([y.id for y in iYL1228_laboratory.model.reactions])\n",
    "\n",
    "clinical_only_rxns = clinical_rxns.difference(laboratory_rxns)\n",
    "print('Clinical only:',len(clinical_only_rxns))\n",
    "laboratory_only_rxns = laboratory_rxns.difference(clinical_rxns)\n",
    "print('Laboratory only:',len(laboratory_only_rxns))"
   ]
  },
  {
   "cell_type": "code",
   "execution_count": 19,
   "metadata": {},
   "outputs": [
    {
     "data": {
      "text/plain": [
       "-0.7372650243367516"
      ]
     },
     "execution_count": 19,
     "metadata": {},
     "output_type": "execute_result"
    }
   ],
   "source": [
    "numpy.median(iYL1228_clinical.flux_samples['EX_ala__L_e'])"
   ]
  },
  {
   "cell_type": "code",
   "execution_count": 14,
   "metadata": {},
   "outputs": [
    {
     "name": "stdout",
     "output_type": "stream",
     "text": [
      "TMDPP Thymidine phosphorylase\n",
      "ASPt2pp L-aspartate transport in via proton symport (periplasm)\n",
      "GLYt4pp Glycine transport in via sodium symport (periplasm)\n",
      "FORAMD FORAMD\n",
      "ASPtex L-aspartate transport via diffusion (extracellular to periplasm)\n",
      "EAR141x Enoyl-[acyl-carrier-protein] reductase (NADH) (n-C14:1)\n",
      "H2tex Hydrogen transport via diffusion (extracellular to periplasm)\n",
      "H2tpp Hydrogen transport diffusion (periplasm)\n",
      "SERt4pp L-serine via sodium symport (periplasm)\n",
      "EAR80x Enoyl-[acyl-carrier-protein] reductase (NADH) (n-C8:0)\n",
      "EAR181x Enoyl-[acyl-carrier-protein] reductase (NADH) (n-C18:1)\n",
      "EX_ala__L_e L-Alanine exchange\n",
      "EAR100x Enoyl-[acyl-carrier-protein] reductase (NADH) (n-C10:0)\n",
      "EX_h_e H+ exchange\n",
      "RPE Ribulose 5-phosphate 3-epimerase\n",
      "EAR140x Enoyl-[acyl-carrier-protein] reductase (NADH) (n-C14:0)\n",
      "GLUt4pp Na+/glutamate symport (periplasm)\n",
      "HISDr Histidase r\n",
      "EAR40x Enoyl-[acyl-carrier-protein] reductase (NADH) (n-C4:0)\n",
      "SERtex L-serine transport via diffusion (extracellular to periplasm)\n",
      "EX_h2_e H2 exchange\n",
      "EAR161x Enoyl-[acyl-carrier-protein] reductase (NADH) (n-C16:1)\n",
      "EAR60x Enoyl-[acyl-carrier-protein] reductase (NADH) (n-C6:0)\n",
      "EX_ser__L_e L-Serine exchange\n",
      "IZPN Imidazolonepropionase\n",
      "ALAt4pp L-alanine transport in via sodium symport (periplasm)\n",
      "EX_thym_e Thymine exchange\n",
      "EAR121x Enoyl-[acyl-carrier-protein] reductase (NADH) (n-C12:1)\n",
      "EX_asp__L_e L-Aspartate exchange\n",
      "THYMtex Thymine transport via diffusion (extracellular to periplasm)\n",
      "PYNP2r Pyrimidine-nucleoside phosphorylase (uracil)\n",
      "FHL Formate-hydrogen lyase\n",
      "THYMt3pp Thymine transport out via proton antiport (periplasm)\n",
      "KAS15 Beta-ketoacyl-ACP synthase (2)\n",
      "EAR120x Enoyl-[acyl-carrier-protein] reductase (NADH) (n-C12:0)\n",
      "EAR160x Enoyl-[acyl-carrier-protein] reductase (NADH) (n-C16:0)\n",
      "ALAtex L-alanine transport via diffusion (extracellular to periplasm)\n",
      "URCN Urocanase\n",
      "Htex Proton transport via diffusion (extracellular to periplasm)\n",
      "FGLU Formimidoylglutamase\n"
     ]
    }
   ],
   "source": [
    "for x in clinical_only_rxns: print(x, iYL1228.reactions.get_by_id(x).name)"
   ]
  },
  {
   "cell_type": "code",
   "execution_count": 21,
   "metadata": {},
   "outputs": [
    {
     "data": {
      "text/plain": [
       "-0.2605957904766636"
      ]
     },
     "execution_count": 21,
     "metadata": {},
     "output_type": "execute_result"
    }
   ],
   "source": [
    "numpy.median(iYL1228_laboratory.flux_samples['EX_fru_e'])"
   ]
  },
  {
   "cell_type": "code",
   "execution_count": 15,
   "metadata": {},
   "outputs": [
    {
     "name": "stdout",
     "output_type": "stream",
     "text": [
      "PSERT Phosphoserine transaminase\n",
      "ASPTA Aspartate transaminase\n",
      "MDH Malate dehydrogenase\n",
      "EAR60y Enoyl-[acyl-carrier-protein] reductase (NADPH) (n-C6:0)\n",
      "EAR181y Enoyl-[acyl-carrier-protein] reductase (NADPH) (n-C18:1)\n",
      "EAR140y Enoyl-[acyl-carrier-protein] reductase (NADPH) (n-C14:0)\n",
      "FRUpts2pp Fructose transport via PEP:Pyr PTS (f6p generating) (periplasm)\n",
      "EAR121y Enoyl-[acyl-carrier-protein] reductase (NADPH) (n-C12:1)\n",
      "GLUt2rpp L-glutamate transport via proton symport, reversible (periplasm)\n",
      "PGCD Phosphoglycerate dehydrogenase\n",
      "EAR161y Enoyl-[acyl-carrier-protein] reductase (NADPH) (n-C16:1)\n",
      "EAR141y Enoyl-[acyl-carrier-protein] reductase (NADPH) (n-C14:1)\n",
      "KAS14 Beta-ketoacyl-ACP synthase\n",
      "ALATA_L L-alanine transaminase\n",
      "FRUtex D-fructose transport via diffusion (extracellular to periplasm)\n",
      "EAR100y Enoyl-[acyl-carrier-protein] reductase (NADPH) (n-C10:0)\n",
      "ACOATA Acetyl-CoA ACP transacylase\n",
      "GLYt2pp Glycine transport in via proton symport (periplasm)\n",
      "EAR120y Enoyl-[acyl-carrier-protein] reductase (NADPH) (n-C12:0)\n",
      "PSP_L Phosphoserine phosphatase (L-serine)\n",
      "EX_h2o_e H2O exchange\n",
      "H2Otex H2O transport via diffusion (extracellular to periplasm)\n",
      "H2Otpp H2O transport via diffusion (periplasm)\n",
      "EAR160y Enoyl-[acyl-carrier-protein] reductase (NADPH) (n-C16:0)\n",
      "EAR40y Enoyl-[acyl-carrier-protein] reductase (NADPH) (n-C4:0)\n",
      "PUNP1 Purine-nucleoside phosphorylase (Adenosine)\n",
      "EX_fru_e D-Fructose exchange\n",
      "EAR80y Enoyl-[acyl-carrier-protein] reductase (NADPH) (n-C8:0)\n"
     ]
    }
   ],
   "source": [
    "for x in laboratory_only_rxns: print(x, iYL1228.reactions.get_by_id(x).name)"
   ]
  },
  {
   "cell_type": "code",
   "execution_count": null,
   "metadata": {},
   "outputs": [],
   "source": []
  },
  {
   "cell_type": "code",
   "execution_count": null,
   "metadata": {},
   "outputs": [],
   "source": []
  },
  {
   "cell_type": "code",
   "execution_count": null,
   "metadata": {},
   "outputs": [],
   "source": []
  }
 ],
 "metadata": {
  "kernelspec": {
   "display_name": "Python 3",
   "language": "python",
   "name": "python3"
  },
  "language_info": {
   "codemirror_mode": {
    "name": "ipython",
    "version": 3
   },
   "file_extension": ".py",
   "mimetype": "text/x-python",
   "name": "python",
   "nbconvert_exporter": "python",
   "pygments_lexer": "ipython3",
   "version": "3.7.5"
  }
 },
 "nbformat": 4,
 "nbformat_minor": 2
}
