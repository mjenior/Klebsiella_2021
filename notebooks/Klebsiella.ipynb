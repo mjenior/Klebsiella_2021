{
 "cells": [
  {
   "cell_type": "code",
   "execution_count": 1,
   "metadata": {},
   "outputs": [],
   "source": [
    "import cobra\n",
    "from cobra.flux_analysis import parsimonious\n",
    "from cobra.flux_analysis.variability import find_essential_genes, find_essential_reactions\n",
    "from cobra.medium.minimal_medium import minimal_medium"
   ]
  },
  {
   "cell_type": "code",
   "execution_count": 2,
   "metadata": {},
   "outputs": [],
   "source": [
    "iYL1228 = cobra.io.load_json_model('/home/mjenior/Desktop/repos/Klebsiella_2021/data/iYL1228.json')"
   ]
  },
  {
   "cell_type": "code",
   "execution_count": 4,
   "metadata": {},
   "outputs": [],
   "source": [
    "#for x in iYL1228.exchanges: print(x.id, x.name)"
   ]
  },
  {
   "cell_type": "code",
   "execution_count": 5,
   "metadata": {},
   "outputs": [
    {
     "data": {
      "text/html": [
       "\n",
       "        <table>\n",
       "            <tr>\n",
       "                <td><strong>Reaction identifier</strong></td><td>VALTA</td>\n",
       "            </tr><tr>\n",
       "                <td><strong>Name</strong></td><td>Valine transaminase</td>\n",
       "            </tr><tr>\n",
       "                <td><strong>Memory address</strong></td>\n",
       "                <td>0x07fc218519e10</td>\n",
       "            </tr><tr>\n",
       "                <td><strong>Stoichiometry</strong></td>\n",
       "                <td>\n",
       "                    <p style='text-align:right'>akg_c + val__L_c <=> 3mob_c + glu__L_c</p>\n",
       "                    <p style='text-align:right'>2-Oxoglutarate + L-Valine <=> 3-Methyl-2-oxobutanoate + L-Glutamate</p>\n",
       "                </td>\n",
       "            </tr><tr>\n",
       "                <td><strong>GPR</strong></td><td>KPN_04269</td>\n",
       "            </tr><tr>\n",
       "                <td><strong>Lower bound</strong></td><td>-1000.0</td>\n",
       "            </tr><tr>\n",
       "                <td><strong>Upper bound</strong></td><td>1000.0</td>\n",
       "            </tr>\n",
       "        </table>\n",
       "        "
      ],
      "text/plain": [
       "<Reaction VALTA at 0x7fc218519e10>"
      ]
     },
     "execution_count": 5,
     "metadata": {},
     "output_type": "execute_result"
    }
   ],
   "source": [
    "# Valine utilization pathway\n",
    "\n",
    "iYL1228.reactions.VALTA"
   ]
  },
  {
   "cell_type": "code",
   "execution_count": 82,
   "metadata": {},
   "outputs": [
    {
     "name": "stdout",
     "output_type": "stream",
     "text": [
      "ILETRS Isoleucyl-tRNA synthetase\n",
      "BIOMASS_ Biomass\n",
      "ILEt2rpp L-isoleucine reversible transport via proton symport (periplasm)\n",
      "ILEabcpp L-isoleucine transport via ABC system (periplasm)\n",
      "ILETA Isoleucine transaminase\n"
     ]
    }
   ],
   "source": [
    "for x in iYL1228.metabolites.get_by_id('ile__L_c').reactions: print(x.id, x.name)"
   ]
  },
  {
   "cell_type": "code",
   "execution_count": 72,
   "metadata": {},
   "outputs": [
    {
     "data": {
      "text/html": [
       "\n",
       "        <table>\n",
       "            <tr>\n",
       "                <td><strong>Reaction identifier</strong></td><td>ALATA_L</td>\n",
       "            </tr><tr>\n",
       "                <td><strong>Name</strong></td><td>L-alanine transaminase</td>\n",
       "            </tr><tr>\n",
       "                <td><strong>Memory address</strong></td>\n",
       "                <td>0x07fc218d249d0</td>\n",
       "            </tr><tr>\n",
       "                <td><strong>Stoichiometry</strong></td>\n",
       "                <td>\n",
       "                    <p style='text-align:right'>akg_c + ala__L_c <=> glu__L_c + pyr_c</p>\n",
       "                    <p style='text-align:right'>2-Oxoglutarate + L-Alanine <=> L-Glutamate + Pyruvate</p>\n",
       "                </td>\n",
       "            </tr><tr>\n",
       "                <td><strong>GPR</strong></td><td></td>\n",
       "            </tr><tr>\n",
       "                <td><strong>Lower bound</strong></td><td>-1000.0</td>\n",
       "            </tr><tr>\n",
       "                <td><strong>Upper bound</strong></td><td>1000.0</td>\n",
       "            </tr>\n",
       "        </table>\n",
       "        "
      ],
      "text/plain": [
       "<Reaction ALATA_L at 0x7fc218d249d0>"
      ]
     },
     "execution_count": 72,
     "metadata": {},
     "output_type": "execute_result"
    }
   ],
   "source": [
    "iYL1228.reactions.ALATA_L"
   ]
  },
  {
   "cell_type": "code",
   "execution_count": 77,
   "metadata": {},
   "outputs": [
    {
     "data": {
      "text/html": [
       "\n",
       "        <table>\n",
       "            <tr>\n",
       "                <td><strong>Reaction identifier</strong></td><td>VALTA</td>\n",
       "            </tr><tr>\n",
       "                <td><strong>Name</strong></td><td>Valine transaminase</td>\n",
       "            </tr><tr>\n",
       "                <td><strong>Memory address</strong></td>\n",
       "                <td>0x07fc218519e10</td>\n",
       "            </tr><tr>\n",
       "                <td><strong>Stoichiometry</strong></td>\n",
       "                <td>\n",
       "                    <p style='text-align:right'>akg_c + val__L_c <=> 3mob_c + glu__L_c</p>\n",
       "                    <p style='text-align:right'>2-Oxoglutarate + L-Valine <=> 3-Methyl-2-oxobutanoate + L-Glutamate</p>\n",
       "                </td>\n",
       "            </tr><tr>\n",
       "                <td><strong>GPR</strong></td><td>KPN_04269</td>\n",
       "            </tr><tr>\n",
       "                <td><strong>Lower bound</strong></td><td>-1000.0</td>\n",
       "            </tr><tr>\n",
       "                <td><strong>Upper bound</strong></td><td>1000.0</td>\n",
       "            </tr>\n",
       "        </table>\n",
       "        "
      ],
      "text/plain": [
       "<Reaction VALTA at 0x7fc218519e10>"
      ]
     },
     "execution_count": 77,
     "metadata": {},
     "output_type": "execute_result"
    }
   ],
   "source": [
    "iYL1228.reactions.VALTA"
   ]
  },
  {
   "cell_type": "code",
   "execution_count": 17,
   "metadata": {},
   "outputs": [
    {
     "data": {
      "text/plain": [
       "189.62091381197698"
      ]
     },
     "execution_count": 17,
     "metadata": {},
     "output_type": "execute_result"
    }
   ],
   "source": [
    "numpy.median(clinical['KPN_04269'])"
   ]
  },
  {
   "cell_type": "code",
   "execution_count": 18,
   "metadata": {},
   "outputs": [
    {
     "data": {
      "text/plain": [
       "232.44088619712784"
      ]
     },
     "execution_count": 18,
     "metadata": {},
     "output_type": "execute_result"
    }
   ],
   "source": [
    "numpy.median(laboratory['KPN_04269'])"
   ]
  },
  {
   "cell_type": "code",
   "execution_count": null,
   "metadata": {},
   "outputs": [],
   "source": []
  },
  {
   "cell_type": "code",
   "execution_count": null,
   "metadata": {},
   "outputs": [],
   "source": []
  },
  {
   "cell_type": "code",
   "execution_count": 11,
   "metadata": {},
   "outputs": [
    {
     "ename": "FileNotFoundError",
     "evalue": "[Errno 2] No such file or directory: 'sequence.txt'",
     "output_type": "error",
     "traceback": [
      "\u001b[0;31m---------------------------------------------------------------------------\u001b[0m",
      "\u001b[0;31mFileNotFoundError\u001b[0m                         Traceback (most recent call last)",
      "\u001b[0;32m<ipython-input-11-8cbce97cb8a1>\u001b[0m in \u001b[0;36m<module>\u001b[0;34m\u001b[0m\n\u001b[1;32m      7\u001b[0m \u001b[0;34m\u001b[0m\u001b[0m\n\u001b[1;32m      8\u001b[0m \u001b[0mKPHS_loci\u001b[0m \u001b[0;34m=\u001b[0m \u001b[0;34m[\u001b[0m\u001b[0;34m]\u001b[0m\u001b[0;34m\u001b[0m\u001b[0;34m\u001b[0m\u001b[0m\n\u001b[0;32m----> 9\u001b[0;31m \u001b[0;32mwith\u001b[0m \u001b[0mopen\u001b[0m\u001b[0;34m(\u001b[0m\u001b[0;34m'sequence.txt'\u001b[0m\u001b[0;34m,\u001b[0m \u001b[0;34m'r'\u001b[0m\u001b[0;34m)\u001b[0m \u001b[0;32mas\u001b[0m \u001b[0minFile\u001b[0m\u001b[0;34m:\u001b[0m\u001b[0;34m\u001b[0m\u001b[0;34m\u001b[0m\u001b[0m\n\u001b[0m\u001b[1;32m     10\u001b[0m     \u001b[0;32mfor\u001b[0m \u001b[0mline\u001b[0m \u001b[0;32min\u001b[0m \u001b[0minFile\u001b[0m\u001b[0;34m:\u001b[0m\u001b[0;34m\u001b[0m\u001b[0;34m\u001b[0m\u001b[0m\n\u001b[1;32m     11\u001b[0m         \u001b[0;32mif\u001b[0m \u001b[0;32mnot\u001b[0m \u001b[0mline\u001b[0m\u001b[0;34m[\u001b[0m\u001b[0;36m0\u001b[0m\u001b[0;34m]\u001b[0m \u001b[0;34m==\u001b[0m \u001b[0;34m'>'\u001b[0m\u001b[0;34m:\u001b[0m\u001b[0;34m\u001b[0m\u001b[0;34m\u001b[0m\u001b[0m\n",
      "\u001b[0;31mFileNotFoundError\u001b[0m: [Errno 2] No such file or directory: 'sequence.txt'"
     ]
    }
   ],
   "source": [
    "KPN_loci = []\n",
    "for x in iYL1228.genes:\n",
    "    locus = x.id\n",
    "    locus = locus.split('_')[1]\n",
    "    KPN_loci.append(locus)\n",
    "KPN_loci = set(KPN_loci)\n",
    "\n",
    "KPHS_loci = []\n",
    "with open('sequence.txt', 'r') as inFile:\n",
    "    for line in inFile:\n",
    "        if not line[0] == '>':\n",
    "            continue\n",
    "        else:\n",
    "            locus = line.split()[1]\n",
    "            locus = locus.split('=')[1]\n",
    "            locus = locus.rstrip(']')\n",
    "            locus = locus.split('_')[1]\n",
    "            KPHS_loci.append(locus)\n",
    "KPHS_loci = set(KPHS_loci)"
   ]
  },
  {
   "cell_type": "code",
   "execution_count": 1,
   "metadata": {},
   "outputs": [],
   "source": [
    "# Function to calculate doubling time from objective value\n",
    "def doublingTime(model):\n",
    "    with model as m:\n",
    "        if m.slim_optimize(error_value=0.) < 1e-6:\n",
    "            print('GENRE has no objective flux')\n",
    "        else:\n",
    "            growth = (1. / float(m.slim_optimize())) * 3600.\n",
    "            print(str(round(growth, 2)) + ' minutes doubling time')\n",
    "\n",
    "\n",
    "# Identifies blocked reactions, 1% cutoff for fraction of optimum\n",
    "def blockedReactions(model):\n",
    "    \n",
    "    with model as m:\n",
    "        blocked = cobra.flux_analysis.variability.find_blocked_reactions(m)\n",
    "        nogene_blocked = []\n",
    "        for rxn in blocked:\n",
    "            if m.reactions.get_by_id(rxn).gene_reaction_rule == '':\n",
    "                nogene_blocked.append(rxn)\n",
    "\n",
    "    #print(str(len(blocked)) + ' total reactions are blocked')\n",
    "    fraction = (float(len(blocked)) / float(len(model.reactions))) * 100.\n",
    "    fraction = round(fraction, 2)\n",
    "    print(str(fraction) + '% reactions are blocked')\n",
    "    \n",
    "    return blocked\n",
    "\n",
    "\n",
    "# Identify potentially gapfilled reactions, checks against pFBA solution\n",
    "def missingGPR(model):\n",
    "    \n",
    "    noGene = []\n",
    "    exclude = []\n",
    "    for rxn in model.reactions:\n",
    "        if len(list(rxn.genes)) == 0:\n",
    "            if rxn.annotation['sbo'] != 'SBO:0000629':\n",
    "                if rxn in model.boundary:\n",
    "                    exclude.append(rxn.id)\n",
    "                    continue\n",
    "                else:\n",
    "                    noGene.append(rxn.id)\n",
    "    \n",
    "    solution = parsimonious.pfba(model)\n",
    "    active_rxns = set([rxn.id for rxn in model.reactions if abs(solution.fluxes[rxn.id]) > 1e-5])\n",
    "    active_rxns = active_rxns.difference(set(exclude))\n",
    "    noGene_active = set(noGene).intersection(active_rxns)\n",
    "\n",
    "    fraction = float(len(model.reactions)) - float(len(exclude))\n",
    "    fraction = (float(len(noGene)) / fraction) * 100.\n",
    "    fraction = round(fraction, 2)\n",
    "    print(str(fraction) + '% reactions without GPRs')\n",
    "    \n",
    "    fraction = (float(len(noGene_active)) / float(len(active_rxns))) * 100.\n",
    "    fraction = round(fraction, 2)\n",
    "    print(str(fraction) + '% of reactions used in pFBA solution have no GPR')\n",
    "    \n",
    "    return noGene_active\n",
    "\n",
    "\n",
    "# Checks which cytosolic metabolites are generated for free (bacteria only)\n",
    "def checkFreeMass(model, cytosol='cytosol'):\n",
    "\n",
    "    free = []\n",
    "    with model as m:\n",
    "    \n",
    "        # Close all exchanges\n",
    "        for rxn in m.boundary: m.reactions.get_by_id(rxn.id).lower_bound = 0.\n",
    "    \n",
    "        # Create demand for each reaction and optimize individually\n",
    "        reset_rxn = m.reactions[0].id\n",
    "        for cpd in m.metabolites: \n",
    "            if cpd.compartment == cytosol:\n",
    "                demand = cobra.Reaction('demand')\n",
    "                demand.bounds = (0., 1000.)\n",
    "                demand.add_metabolites({cpd: -1.0})\n",
    "                m.add_reactions([demand])\n",
    "                m.objective = demand\n",
    "                obj_val = m.slim_optimize()\n",
    "                if obj_val > 1e-8: free.append(cpd.id)\n",
    "                m.objective = reset_rxn\n",
    "                m.remove_reactions([demand])\n",
    "    \n",
    "    fraction = (float(len(free)) / float(len(model.metabolites))) * 100.\n",
    "    fraction = round(fraction, 2)\n",
    "    print(str(fraction) + '% metabolites are generated for free')\n",
    "\n",
    "    return(free)\n",
    "\n",
    "\n",
    "# Check for mass and charge balance in reactions\n",
    "def checkBalance(model):\n",
    "    \n",
    "    with model as m:\n",
    "\n",
    "        elements = set()\n",
    "        for cpd in m.metabolites:\n",
    "            try:\n",
    "                elements |= set(cpd.elements.keys())\n",
    "            except:\n",
    "                pass\n",
    "        \n",
    "        massImbal = []\n",
    "        failed = 0\n",
    "        if len(elements) == 0:\n",
    "            print('No elemental data associated with metabolites!')\n",
    "            failed = 1\n",
    "        else:\n",
    "            for rxn in m.reactions:\n",
    "                if rxn.annotation['sbo'] == 'SBO:0000629': \n",
    "                    continue\n",
    "                elif rxn in m.boundary:\n",
    "                    continue\n",
    "\n",
    "                try:\n",
    "                    test = rxn.check_mass_balance()\n",
    "                except ValueError:\n",
    "                    continue\n",
    "\n",
    "                if len(list(test)) > 0:\n",
    "                    if len(set(test.keys()).intersection(elements)) > 0: massImbal.append(rxn.id)\n",
    "                        \n",
    "    if failed != 1:\n",
    "        fraction = (float(len(massImbal)) / float(len(model.reactions))) * 100.\n",
    "        fraction = round(fraction, 2)\n",
    "        print(str(fraction) + '% reactions are mass imbalanced')\n",
    "        \n",
    "    return massImbal\n",
    "\n",
    "\n",
    "def basicCheck(model):\n",
    "    \n",
    "    # Determination\n",
    "    if len(model.reactions) < len(model.metabolites): \n",
    "        print('GENRE is overdetermined')\n",
    "    elif len(model.reactions) > len(model.metabolites):\n",
    "        print('GENRE is underdetermined')\n",
    "    else:\n",
    "        pass\n",
    "    \n",
    "    # Compartments\n",
    "    print('GENRE has ' + str(len(model.compartments.keys())) + ' compartment(s)')\n",
    "    \n",
    "    # Genes\n",
    "    if len(model.genes) == 0: \n",
    "        print('GENRE has no gene data')\n",
    "    else:\n",
    "        print('GENRE has ' + str(len(model.genes)) + ' genes')\n",
    "          \n",
    "    # Growth\n",
    "    doublingTime(model)\n",
    "\n"
   ]
  },
  {
   "cell_type": "code",
   "execution_count": 5,
   "metadata": {},
   "outputs": [],
   "source": [
    "# Open all exchange bounds\n",
    "for x in iYL1228.exchanges: x.bounds = (-1000., 1000.)"
   ]
  },
  {
   "cell_type": "code",
   "execution_count": 10,
   "metadata": {},
   "outputs": [
    {
     "name": "stdout",
     "output_type": "stream",
     "text": [
      "GENRE is underdetermined\n",
      "GENRE has 3 compartment(s)\n",
      "GENRE has 1229 genes\n",
      "53.94 minutes doubling time\n",
      "22.37% reactions are blocked\n",
      "0.0% metabolites are generated for free\n",
      "No elemental data associated with metabolites!\n",
      "3.86% reactions without GPRs\n",
      "2.63% of reactions used in pFBA solution have no GPR\n"
     ]
    }
   ],
   "source": [
    "basicCheck(iYL1228)\n",
    "draft_noGPRblocked = blockedReactions(iYL1228)\n",
    "draft_free = checkFreeMass(iYL1228)\n",
    "draft_massImbal = checkBalance(iYL1228)\n",
    "draft_nogene = missingGPR(iYL1228)"
   ]
  },
  {
   "cell_type": "code",
   "execution_count": null,
   "metadata": {},
   "outputs": [],
   "source": []
  },
  {
   "cell_type": "code",
   "execution_count": 3,
   "metadata": {},
   "outputs": [
    {
     "ename": "SyntaxError",
     "evalue": "invalid syntax (<ipython-input-3-ae79f2024d75>, line 1)",
     "output_type": "error",
     "traceback": [
      "\u001b[0;36m  File \u001b[0;32m\"<ipython-input-3-ae79f2024d75>\"\u001b[0;36m, line \u001b[0;32m1\u001b[0m\n\u001b[0;31m    jupyter labextension --help\u001b[0m\n\u001b[0m                       ^\u001b[0m\n\u001b[0;31mSyntaxError\u001b[0m\u001b[0;31m:\u001b[0m invalid syntax\n"
     ]
    }
   ],
   "source": [
    "jupyter labextension --help"
   ]
  },
  {
   "cell_type": "code",
   "execution_count": 1,
   "metadata": {},
   "outputs": [],
   "source": [
    "from riptide import *"
   ]
  },
  {
   "cell_type": "code",
   "execution_count": 9,
   "metadata": {},
   "outputs": [],
   "source": [
    "iYL1228 = cobra.io.load_json_model('/home/mjenior/Desktop/repos/Klebsiella_2021/data/iYL1228.json')"
   ]
  },
  {
   "cell_type": "code",
   "execution_count": 3,
   "metadata": {},
   "outputs": [],
   "source": [
    "HBF_medium_open = {'EX_glc_e':-1000, 'EX_ala__L_e':-1000, 'EX_arg__L_e':-1000, 'EX_asp__L_e':-1000, 'EX_cys__L_e':-1000, \n",
    "             'EX_glu__L_e':-1000, 'EX_gly_e':-1000, 'EX_his__L_e':-1000, 'EX_ile__L_e':-1000, 'EX_leu__L_e':-1000, \n",
    "             'EX_lys__L_e':-1000, 'EX_met__L_e':-1000, 'EX_pro__L_e':-1000, 'EX_thr__L_e':-1000, 'EX_tyr__L_e':-1000, \n",
    "             'EX_phe__L_e':-1000, 'EX_ser__L_e':-1000, 'EX_trp__L_e':-1000, 'EX_val__L_e':-1000, 'EX_pnto_R_e':-1000, \n",
    "             'EX_nac_e':-1000, 'EX_na1_e':-1000, 'EX_cl_e':-1000, 'EX_so4_e':-1000, 'EX_k_e':-1000, \n",
    "             'EX_pi_e':-1000, 'EX_ca2_e':-1000, 'EX_mg2_e':-1000, 'EX_zn2_e':-1000, 'EX_aso3_e':-1000, \n",
    "             'EX_cd2_e':-1000, 'EX_hg2_e':-1000, 'EX_h_e':-1000, 'EX_h2o_e':-1000, 'EX_o2_e':-1000, \n",
    "             'EX_ins_e':-5, 'EX_hxan_e':-5, 'EX_dcyt_e':-5, 'EX_thymd_e':-5, 'EX_ura_e':-5, 'EX_uri_e':-1000, \n",
    "             'EX_dad_2_e':-5, 'EX_adn_e':-5, 'EX_co2_e':-1000, 'EX_cobalt2_e':-1000, 'EX_cu2_e':-1000, \n",
    "             'EX_fe2_e':-1000, 'EX_fe3_e':-1000, 'EX_mn2_e':-1000, 'EX_mobd_e':-1000, 'EX_tungs_e':-1000, \n",
    "             'EX_cbl1_e':-1000, 'EX_fru_e':-1000, 'EX_gal_e':-1000, 'EX_ni2_e':-1000, 'EX_sel_e':-1000, \n",
    "             'EX_slnt_e':-1000} \n",
    "\n",
    "HBF_medium = {'EX_glc_e':-5, 'EX_ala__L_e':-5, 'EX_arg__L_e':-5, 'EX_asp__L_e':-5, 'EX_cys__L_e':-5, \n",
    "             'EX_glu__L_e':-5, 'EX_gly_e':-5, 'EX_his__L_e':-5, 'EX_ile__L_e':-5, 'EX_leu__L_e':-5, \n",
    "             'EX_lys__L_e':-5, 'EX_met__L_e':-5, 'EX_pro__L_e':-5, 'EX_thr__L_e':-5, 'EX_tyr__L_e':-5, \n",
    "             'EX_phe__L_e':-5, 'EX_ser__L_e':-5, 'EX_trp__L_e':-5, 'EX_val__L_e':-5, 'EX_pnto_R_e':-5, \n",
    "             'EX_nac_e':-5, 'EX_na1_e':-1000, 'EX_cl_e':-1000, 'EX_so4_e':-1000, 'EX_k_e':-1000, \n",
    "             'EX_pi_e':-1000, 'EX_ca2_e':-1000, 'EX_mg2_e':-1000, 'EX_zn2_e':-1000, 'EX_aso3_e':-1000, \n",
    "             'EX_cd2_e':-1000, 'EX_hg2_e':-1000, 'EX_h_e':-100, 'EX_h2o_e':-100, 'EX_o2_e':-18.5, \n",
    "             'EX_ins_e':-5, 'EX_hxan_e':-5, 'EX_dcyt_e':-5, 'EX_thymd_e':-5, 'EX_ura_e':-5, 'EX_uri_e':-5, \n",
    "             'EX_dad_2_e':-5, 'EX_adn_e':-5, 'EX_co2_e':-1000, 'EX_cobalt2_e':-1000, 'EX_cu2_e':-1000, \n",
    "             'EX_fe2_e':-1000, 'EX_fe3_e':-1000, 'EX_mn2_e':-1000, 'EX_mobd_e':-1000, 'EX_tungs_e':-1000, \n",
    "             'EX_cbl1_e':-0.01, 'EX_fru_e':-5, 'EX_gal_e':-5, 'EX_ni2_e':-1000, 'EX_sel_e':-1000, \n",
    "             'EX_slnt_e':-1000} "
   ]
  },
  {
   "cell_type": "code",
   "execution_count": 4,
   "metadata": {},
   "outputs": [],
   "source": [
    "# Set media conditions\n",
    "for x in iYL1228.exchanges:\n",
    "    try:\n",
    "        x.bounds = (float(HBF_medium[x.id]), 1000.)\n",
    "    except:\n",
    "        x.bounds = (0., 1000.)"
   ]
  },
  {
   "cell_type": "code",
   "execution_count": 14,
   "metadata": {},
   "outputs": [],
   "source": [
    "clinical = riptide.read_transcription_file(file='/home/mjenior/Desktop/active_projects/klebsiella/data/transcript_mapping/clinical_replicates.tsv')"
   ]
  },
  {
   "cell_type": "code",
   "execution_count": 6,
   "metadata": {
    "scrolled": true
   },
   "outputs": [
    {
     "name": "stdout",
     "output_type": "stream",
     "text": [
      "\n",
      "Running max fit RIPTiDe for objective fraction range: 0.35 to 0.95 with intervals of 0.05 \n",
      "\n",
      "Testing minimum objective fractions...\n",
      "Fraction = 0.35 | Rho = 0.115 ; p = 0.0208\n",
      "Fraction = 0.4 | Rho = 0.107 ; p = 0.031\n",
      "Fraction = 0.45 | Rho = 0.118 ; p = 0.0172\n",
      "Fraction = 0.5 | Rho = 0.0671 ; p = 0.1759\n",
      "Fraction = 0.55 | Rho = 0.0639 ; p = 0.1994\n",
      "Fraction = 0.6 | Rho = 0.0794 ; p = 0.1112\n",
      "Fraction = 0.65 | Rho = 0.061 ; p = 0.2238\n",
      "Fraction = 0.7 | Rho = 0.0769 ; p = 0.1261\n",
      "Fraction = 0.75 | Rho = 0.1186 ; p = 0.0197\n",
      "Fraction = 0.8 | Rho = 0.1106 ; p = 0.0307\n",
      "Fraction = 0.85 | Rho = 0.1212 ; p = 0.0175\n",
      "Fraction = 0.9 | Rho = 0.1183 ; p = 0.0193\n",
      "Testing local objective fractions to 0.85...\n",
      "Fraction = 0.825 | Rho = 0.1178 ; p = 0.0215\n",
      "Fraction = 0.875 | Rho = 0.1081 ; p = 0.0343\n",
      "\n",
      "Context-specific metabolism fit with 0.85 of optimal objective flux\n",
      "\n",
      "Reactions pruned to 384 from 2262 (83.02% change)\n",
      "Metabolites pruned to 354 from 1658 (78.65% change)\n",
      "Flux through the objective DECREASED to ~2.58 from ~2.72 (5.15% change)\n",
      "Context-specific metabolism correlates with transcriptome (r=0.121, p=0.017 *)\n",
      "\n",
      "Maxfit RIPTiDe completed in, 102 minutes and 11 seconds \n",
      "\n"
     ]
    }
   ],
   "source": [
    "iYL1228_clinical = riptide.maxfit_contextualize(model=iYL1228, transcriptome=clinical)"
   ]
  },
  {
   "cell_type": "code",
   "execution_count": 7,
   "metadata": {},
   "outputs": [],
   "source": [
    "riptide.save_output(iYL1228_clinical, path='/home/mjenior/Desktop/repos/Klebsiella_2021/data/clinical_maxfit_reps')"
   ]
  },
  {
   "cell_type": "code",
   "execution_count": 15,
   "metadata": {},
   "outputs": [],
   "source": [
    "laboratory = read_transcription_file(file='/home/mjenior/Desktop/active_projects/klebsiella/data/transcript_mapping/laboratory_replicates.tsv')"
   ]
  },
  {
   "cell_type": "code",
   "execution_count": 6,
   "metadata": {},
   "outputs": [
    {
     "name": "stdout",
     "output_type": "stream",
     "text": [
      "\n",
      "Running max fit RIPTiDe for objective fraction range: 0.35 to 0.95 with intervals of 0.05 \n",
      "\n",
      "Testing minimum objective fractions...\n",
      "Fraction = 0.35 | Rho = 0.1911 ; p = 0.0001\n",
      "Fraction = 0.4 | Rho = 0.2091 ; p = 0.0\n",
      "Fraction = 0.45 | Rho = 0.1659 ; p = 0.0009\n",
      "Fraction = 0.5 | Rho = 0.1401 ; p = 0.0054\n",
      "Fraction = 0.55 | Rho = 0.1849 ; p = 0.0002\n",
      "Fraction = 0.6 | Rho = 0.2058 ; p = 0.0001\n",
      "Fraction = 0.65 | Rho = 0.163 ; p = 0.0015\n",
      "Fraction = 0.7 | Rho = 0.1504 ; p = 0.0033\n",
      "Fraction = 0.75 | Rho = 0.1726 ; p = 0.0007\n",
      "Fraction = 0.8 | Rho = 0.1697 ; p = 0.0008\n",
      "Fraction = 0.85 | Rho = 0.2088 ; p = 0.0\n",
      "Fraction = 0.9 | Rho = 0.1891 ; p = 0.0001\n",
      "Testing local objective fractions to 0.4...\n",
      "Fraction = 0.375 | Rho = 0.214 ; p = 0.0\n",
      "Fraction = 0.425 | Rho = 0.1561 ; p = 0.0019\n",
      "\n",
      "Context-specific metabolism fit with 0.375 of optimal objective flux\n",
      "\n",
      "Reactions pruned to 393 from 2262 (82.63% change)\n",
      "Metabolites pruned to 350 from 1658 (78.89% change)\n",
      "Flux through the objective DECREASED to ~2.26 from ~2.72 (16.91% change)\n",
      "Context-specific metabolism correlates with transcriptome (r=0.214, p<0.001 *)\n",
      "\n",
      "Maxfit RIPTiDe completed in, 53 minutes and 37 seconds \n",
      "\n"
     ]
    }
   ],
   "source": [
    "iYL1228_laboratory = riptide.maxfit_contextualize(model=iYL1228, transcriptome=laboratory)"
   ]
  },
  {
   "cell_type": "code",
   "execution_count": 7,
   "metadata": {},
   "outputs": [],
   "source": [
    "# Save output\n",
    "riptide.save_output(iYL1228_laboratory, path='/home/mjenior/Desktop/repos/Klebsiella_2021/data/laboratory_maxfit_reps')"
   ]
  },
  {
   "cell_type": "code",
   "execution_count": null,
   "metadata": {},
   "outputs": [],
   "source": []
  },
  {
   "cell_type": "code",
   "execution_count": null,
   "metadata": {},
   "outputs": [],
   "source": []
  },
  {
   "cell_type": "code",
   "execution_count": null,
   "metadata": {},
   "outputs": [],
   "source": []
  },
  {
   "cell_type": "code",
   "execution_count": 2,
   "metadata": {},
   "outputs": [],
   "source": [
    "iYL1228_clinical = cobra.io.read_sbml_model('/home/mjenior/Desktop/repos/Klebsiella_2021/data/clinical_maxfit_reps/model.sbml')\n",
    "iYL1228_laboratory = cobra.io.read_sbml_model('/home/mjenior/Desktop/repos/Klebsiella_2021/data/laboratory_maxfit_reps/model.sbml')"
   ]
  },
  {
   "cell_type": "code",
   "execution_count": 6,
   "metadata": {},
   "outputs": [
    {
     "data": {
      "text/html": [
       "\n",
       "        <table>\n",
       "            <tr>\n",
       "                <td><strong>Name</strong></td>\n",
       "                <td>iYL1228_riptide</td>\n",
       "            </tr><tr>\n",
       "                <td><strong>Memory address</strong></td>\n",
       "                <td>0x07f3d8ac918d0</td>\n",
       "            </tr><tr>\n",
       "                <td><strong>Number of metabolites</strong></td>\n",
       "                <td>354</td>\n",
       "            </tr><tr>\n",
       "                <td><strong>Number of reactions</strong></td>\n",
       "                <td>384</td>\n",
       "            </tr><tr>\n",
       "                <td><strong>Number of groups</strong></td>\n",
       "                <td>0</td>\n",
       "            </tr><tr>\n",
       "                <td><strong>Objective expression</strong></td>\n",
       "                <td>1.0*BIOMASS_ - 1.0*BIOMASS__reverse_091e5</td>\n",
       "            </tr><tr>\n",
       "                <td><strong>Compartments</strong></td>\n",
       "                <td>cytosol, periplasm, extracellular space</td>\n",
       "            </tr>\n",
       "          </table>"
      ],
      "text/plain": [
       "<Model iYL1228_riptide at 0x7f3d8ac918d0>"
      ]
     },
     "execution_count": 6,
     "metadata": {},
     "output_type": "execute_result"
    }
   ],
   "source": [
    "iYL1228_clinical"
   ]
  },
  {
   "cell_type": "code",
   "execution_count": 7,
   "metadata": {},
   "outputs": [
    {
     "data": {
      "text/html": [
       "\n",
       "        <table>\n",
       "            <tr>\n",
       "                <td><strong>Name</strong></td>\n",
       "                <td>iYL1228_riptide</td>\n",
       "            </tr><tr>\n",
       "                <td><strong>Memory address</strong></td>\n",
       "                <td>0x07f3d8ac91bd0</td>\n",
       "            </tr><tr>\n",
       "                <td><strong>Number of metabolites</strong></td>\n",
       "                <td>350</td>\n",
       "            </tr><tr>\n",
       "                <td><strong>Number of reactions</strong></td>\n",
       "                <td>393</td>\n",
       "            </tr><tr>\n",
       "                <td><strong>Number of groups</strong></td>\n",
       "                <td>0</td>\n",
       "            </tr><tr>\n",
       "                <td><strong>Objective expression</strong></td>\n",
       "                <td>1.0*BIOMASS_ - 1.0*BIOMASS__reverse_091e5</td>\n",
       "            </tr><tr>\n",
       "                <td><strong>Compartments</strong></td>\n",
       "                <td>cytosol, periplasm, extracellular space</td>\n",
       "            </tr>\n",
       "          </table>"
      ],
      "text/plain": [
       "<Model iYL1228_riptide at 0x7f3d8ac91bd0>"
      ]
     },
     "execution_count": 7,
     "metadata": {},
     "output_type": "execute_result"
    }
   ],
   "source": [
    "iYL1228_laboratory"
   ]
  },
  {
   "cell_type": "code",
   "execution_count": 14,
   "metadata": {},
   "outputs": [],
   "source": [
    "clinical_solution = iYL1228_clinical.optimize().fluxes\n",
    "with open('/home/mjenior/Desktop/repos/Klebsiella_2021/data/clinical_fluxes.tsv', 'w') as outFile:\n",
    "    for x in list(clinical_solution.keys()):\n",
    "        entry = x + '\\t' + str(clinical_solution[x]) + '\\n'\n",
    "        outFile.write(entry)"
   ]
  },
  {
   "cell_type": "code",
   "execution_count": 15,
   "metadata": {},
   "outputs": [],
   "source": [
    "laboratory_solution = iYL1228_laboratory.optimize().fluxes\n",
    "with open('/home/mjenior/Desktop/repos/Klebsiella_2021/data/laboratory_fluxes.tsv', 'w') as outFile:\n",
    "    for x in list(laboratory_solution.keys()):\n",
    "        entry = x + '\\t' + str(laboratory_solution[x]) + '\\n'\n",
    "        outFile.write(entry)"
   ]
  },
  {
   "cell_type": "code",
   "execution_count": null,
   "metadata": {},
   "outputs": [],
   "source": []
  },
  {
   "cell_type": "code",
   "execution_count": null,
   "metadata": {},
   "outputs": [],
   "source": []
  },
  {
   "cell_type": "code",
   "execution_count": null,
   "metadata": {},
   "outputs": [],
   "source": []
  },
  {
   "cell_type": "code",
   "execution_count": null,
   "metadata": {},
   "outputs": [],
   "source": []
  },
  {
   "cell_type": "code",
   "execution_count": 6,
   "metadata": {},
   "outputs": [
    {
     "name": "stdout",
     "output_type": "stream",
     "text": [
      "Clinical only: 39\n",
      "Laboratory only: 48\n"
     ]
    }
   ],
   "source": [
    "clinical_rxns = set([x.id for x in iYL1228_clinical.reactions])\n",
    "laboratory_rxns = set([y.id for y in iYL1228_laboratory.reactions])\n",
    "\n",
    "clinical_only_rxns = clinical_rxns.difference(laboratory_rxns)\n",
    "print('Clinical only:',len(clinical_only_rxns))\n",
    "laboratory_only_rxns = laboratory_rxns.difference(clinical_rxns)\n",
    "print('Laboratory only:',len(laboratory_only_rxns))"
   ]
  },
  {
   "cell_type": "code",
   "execution_count": 10,
   "metadata": {},
   "outputs": [
    {
     "name": "stdout",
     "output_type": "stream",
     "text": [
      "PGP181abcpp Phosphatidylglycerophosphate transport via ABC system (n-C18:1, periplasm)\n",
      "VPAMTr Valine-pyruvate aminotransferase\n",
      "F6PA Fructose 6-phosphate aldolase\n",
      "URIDK2r Uridylate kinase (dUMP)\n",
      "KARA1 Ketol-acid reductoisomerase (2,3-dihydroxy-3-methylbutanoate)\n",
      "SERD_L L-serine deaminase\n",
      "PGPP160pp Phosphatidylglycerol phosphate phosphatase (periplasm, n-C16:0)\n",
      "EX_h2_e H2 exchange\n",
      "FRD3 Fumarate reductase\n",
      "RNDR4 Ribonucleoside-diphosphate reductase (UDP)\n",
      "DADK Deoxyadenylate kinase\n",
      "HXPRT Hypoxanthine phosphoribosyltransferase (Hypoxanthine)\n",
      "G5SD Glutamate-5-semialdehyde dehydrogenase\n",
      "VALTA Valine transaminase\n",
      "GLU5K Glutamate 5-kinase\n",
      "P5CR Pyrroline-5-carboxylate reductase\n",
      "EX_ala__D_e D-Alanine exchange\n",
      "ADSL1r Adenylsuccinate lyase\n",
      "H2tpp Hydrogen transport diffusion (periplasm)\n",
      "DALAtex D-Alanine transport via diffusion (extracellular to periplasm)\n",
      "PGPP161pp Phosphatidylglycerol phosphate phosphatase (periplasm, n-C16:1)\n",
      "GLYCL Glycine Cleavage System\n",
      "NTD6 5'-nucleotidase (dAMP)\n",
      "PGP161abcpp Phosphatidylglycerophosphate transport via ABC system (n-C16:1, periplasm)\n",
      "PGP160abcpp Phosphatidylglycerophosphate transport via ABC system (n-C16:0, periplasm)\n",
      "DHAD1 Dihydroxy-acid dehydratase (2,3-dihydroxy-3-methylbutanoate)\n",
      "GLYCLTt4pp Glycolate transport via sodium symport (periplasm)\n",
      "AMPN AMP nucleosidase\n",
      "ASPT L-aspartase\n",
      "DHAPT Dihydroxyacetone phosphotransferase\n",
      "NADH18pp NADH dehydrogenase (demethylmenaquinone-8 & 3 protons) (periplasm)\n",
      "ACLS Acetolactate synthase\n",
      "G5SADs L-glutamate 5-semialdehyde dehydratase (spontaneous)\n",
      "H2tex Hydrogen transport via diffusion (extracellular to periplasm)\n",
      "PGPP181pp Phosphatidylglycerol phosphate phosphatase (periplasm, n-C18:1)\n",
      "ADSS Adenylosuccinate synthase\n",
      "PUNP5 Purine-nucleoside phosphorylase (Inosine)\n",
      "GLYCDx Glycerol dehydrogenase\n",
      "CITL Citrate lyase\n"
     ]
    }
   ],
   "source": [
    "for x in clinical_only_rxns: print(x, iYL1228.reactions.get_by_id(x).name)"
   ]
  },
  {
   "cell_type": "code",
   "execution_count": 11,
   "metadata": {},
   "outputs": [
    {
     "name": "stdout",
     "output_type": "stream",
     "text": [
      "MTHFD Methylenetetrahydrofolate dehydrogenase (NADP)\n",
      "EAR181y Enoyl-[acyl-carrier-protein] reductase (NADPH) (n-C18:1)\n",
      "ILEabcpp L-isoleucine transport via ABC system (periplasm)\n",
      "FORtppi Formate transport via diffusion (cytoplasm to periplasm)\n",
      "ALAtex L-alanine transport via diffusion (extracellular to periplasm)\n",
      "EX_for_e Formate exchange\n",
      "IZPN Imidazolonepropionase\n",
      "MTHFC Methenyltetrahydrofolate cyclohydrolase\n",
      "EAR60y Enoyl-[acyl-carrier-protein] reductase (NADPH) (n-C6:0)\n",
      "EAR161y Enoyl-[acyl-carrier-protein] reductase (NADPH) (n-C16:1)\n",
      "FTHFD Formyltetrahydrofolate deformylase\n",
      "FGLU Formimidoylglutamase\n",
      "PGCD Phosphoglycerate dehydrogenase\n",
      "ICL Isocitrate lyase\n",
      "HYD1pp Hydrogenase (ubiquinone-8: 2 protons) (periplasm)\n",
      "FORAMD FORAMD\n",
      "AKGDH 2-Oxogluterate dehydrogenase\n",
      "EAR140y Enoyl-[acyl-carrier-protein] reductase (NADPH) (n-C14:0)\n",
      "EAR100y Enoyl-[acyl-carrier-protein] reductase (NADPH) (n-C10:0)\n",
      "PSERT Phosphoserine transaminase\n",
      "EAR80y Enoyl-[acyl-carrier-protein] reductase (NADPH) (n-C8:0)\n",
      "GLYCLTtex Glycolate transport via diffusion (extracellular to periplasm)\n",
      "LEUabcpp L-leucine transport via ABC system (periplasm)\n",
      "CS Citrate synthase\n",
      "ME1 Malic enzyme (NAD)\n",
      "ADA Adenosine deaminase\n",
      "GLUabcpp L-glutamate transport via ABC system (periplasm)\n",
      "EX_ala__L_e L-Alanine exchange\n",
      "NADH16pp NADH dehydrogenase (ubiquinone-8 & 3 protons) (periplasm)\n",
      "ALAt2pp L-alanine transport in via proton symport (periplasm)\n",
      "EX_glyclt_e Glycolate exchange\n",
      "PPCK Phosphoenolpyruvate carboxykinase\n",
      "SUCDi Succinate dehydrogenase (irreversible)\n",
      "EAR120y Enoyl-[acyl-carrier-protein] reductase (NADPH) (n-C12:0)\n",
      "EAR121y Enoyl-[acyl-carrier-protein] reductase (NADPH) (n-C12:1)\n",
      "EAR141y Enoyl-[acyl-carrier-protein] reductase (NADPH) (n-C14:1)\n",
      "GLYCLTDx Glycolate dehydrogenase (NAD)\n",
      "ASPt2_2pp Aspartate transport via proton symport (2 H) (periplasm)\n",
      "EAR160y Enoyl-[acyl-carrier-protein] reductase (NADPH) (n-C16:0)\n",
      "PSP_L Phosphoserine phosphatase (L-serine)\n",
      "HISDr Histidase r\n",
      "FORtex Formate transport via diffusion (extracellular to periplasm)\n",
      "VALabcpp L-valine transport via ABC system (periplasm)\n",
      "URCN Urocanase\n",
      "FRUptspp D-fructose transport via PEP:Pyr PTS (periplasm)\n",
      "FRUK Fructose-1-phosphate kinase\n",
      "EAR40y Enoyl-[acyl-carrier-protein] reductase (NADPH) (n-C4:0)\n",
      "GALabcpp D-galactose transport via ABC system (periplasm)\n"
     ]
    }
   ],
   "source": [
    "for x in laboratory_only_rxns: print(x, iYL1228.reactions.get_by_id(x).name)"
   ]
  },
  {
   "cell_type": "code",
   "execution_count": null,
   "metadata": {},
   "outputs": [],
   "source": []
  },
  {
   "cell_type": "code",
   "execution_count": 14,
   "metadata": {},
   "outputs": [],
   "source": [
    "from cobra.flux_analysis.variability import find_essential_genes, find_essential_reactions"
   ]
  },
  {
   "cell_type": "code",
   "execution_count": 15,
   "metadata": {},
   "outputs": [
    {
     "name": "stdout",
     "output_type": "stream",
     "text": [
      "119 core essential genes found\n"
     ]
    }
   ],
   "source": [
    "minGrowth = iYL1228.slim_optimize() * 0.01\n",
    "core_essential_genes = find_essential_genes(iYL1228, threshold=minGrowth)\n",
    "core_essential_genes = set([x.id for x in core_essential_genes])\n",
    "print(str(len(core_essential_genes)) + ' core essential genes found')"
   ]
  },
  {
   "cell_type": "code",
   "execution_count": 16,
   "metadata": {},
   "outputs": [
    {
     "name": "stdout",
     "output_type": "stream",
     "text": [
      "41 clinical context-specific essential genes found\n"
     ]
    }
   ],
   "source": [
    "minGrowth = iYL1228_clinical.slim_optimize() * 0.01\n",
    "clinical_essential_genes = find_essential_genes(iYL1228_clinical, threshold=minGrowth)\n",
    "clinical_essential_genes = set([x.id for x in clinical_essential_genes]).difference(core_essential_genes)\n",
    "print(str(len(clinical_essential_genes)) + ' clinical context-specific essential genes found')"
   ]
  },
  {
   "cell_type": "code",
   "execution_count": 17,
   "metadata": {},
   "outputs": [
    {
     "name": "stdout",
     "output_type": "stream",
     "text": [
      "16 laboratory context-specific essential genes found\n"
     ]
    }
   ],
   "source": [
    "minGrowth = iYL1228_laboratory.slim_optimize() * 0.01\n",
    "laboratory_essential_genes = find_essential_genes(iYL1228_laboratory, threshold=minGrowth)\n",
    "laboratory_essential_genes = set([x.id for x in laboratory_essential_genes]).difference(core_essential_genes)\n",
    "print(str(len(laboratory_essential_genes)) + ' laboratory context-specific essential genes found')"
   ]
  },
  {
   "cell_type": "code",
   "execution_count": 18,
   "metadata": {},
   "outputs": [
    {
     "name": "stdout",
     "output_type": "stream",
     "text": [
      "28 clinical-only context-specific essential genes found\n",
      "3 laboratory-only context-specific essential genes found\n"
     ]
    }
   ],
   "source": [
    "clinical_only_essential_genes = clinical_essential_genes.difference(laboratory_essential_genes)\n",
    "print(str(len(clinical_only_essential_genes)) + ' clinical-only context-specific essential genes found')\n",
    "laboratory_only_essential_genes = laboratory_essential_genes.difference(clinical_essential_genes)\n",
    "print(str(len(laboratory_only_essential_genes)) + ' laboratory-only context-specific essential genes found')"
   ]
  },
  {
   "cell_type": "code",
   "execution_count": 24,
   "metadata": {},
   "outputs": [
    {
     "name": "stdout",
     "output_type": "stream",
     "text": [
      "NADHNQR NADH: quinone oxidoreductas, NQR-type\n",
      "ATPS4rpp ATP synthase (four protons for one ATP) (periplasm)\n",
      "GLCOAS Glutaryl-CoA synthetase\n",
      "SUCOAS Succinyl-CoA synthetase (ADP-forming)\n",
      "CYTBO3_4pp Cytochrome oxidase bo3 (ubiquinol-8: 4 protons) (periplasm)\n",
      "DRPA Deoxyribose-phosphate aldolase\n",
      "NADHNQR NADH: quinone oxidoreductas, NQR-type\n",
      "ATPS4rpp ATP synthase (four protons for one ATP) (periplasm)\n",
      "ATPS4rpp ATP synthase (four protons for one ATP) (periplasm)\n",
      "PGK Phosphoglycerate kinase\n",
      "CYTDt2pp Cytidine transport in via proton symport (periplasm)\n",
      "DURIt2pp Deoxyuridine transport in via proton symport (periplasm)\n",
      "THMDt2pp Thymidine transport in via proton symport (periplasm)\n",
      "DCYTt2pp Deoxycytidine transport in via proton symport (periplasm)\n",
      "INSt2pp Inosine transport in via proton symport (periplasm)\n",
      "DGSNt2pp Deoxyguanosine transport in via proton symport (periplasm)\n",
      "URIt2pp Uridine transport in via proton symport (periplasm)\n",
      "DINSt2pp Deoxyinosine transport in via proton symport (periplasm)\n",
      "DADNt2pp Deoxyadenosine transport in via proton symport (periplasm)\n",
      "GSNt2pp Guanosine transport in via proton symport (periplasm)\n",
      "ADNt2pp Adenosine transport in via proton symport (periplasm)\n",
      "NADHNQR NADH: quinone oxidoreductas, NQR-type\n",
      "ATPS4rpp ATP synthase (four protons for one ATP) (periplasm)\n",
      "ATPS4rpp ATP synthase (four protons for one ATP) (periplasm)\n",
      "PPM2 Phosphopentomutase 2 (deoxyribose)\n",
      "PPM Phosphopentomutase\n",
      "GAPD Glyceraldehyde-3-phosphate dehydrogenase\n",
      "ATPS4rpp ATP synthase (four protons for one ATP) (periplasm)\n",
      "ATPS4rpp ATP synthase (four protons for one ATP) (periplasm)\n",
      "CYTBO3_4pp Cytochrome oxidase bo3 (ubiquinol-8: 4 protons) (periplasm)\n",
      "CYTBO3_4pp Cytochrome oxidase bo3 (ubiquinol-8: 4 protons) (periplasm)\n",
      "CYTBO3_4pp Cytochrome oxidase bo3 (ubiquinol-8: 4 protons) (periplasm)\n",
      "SUCOAS Succinyl-CoA synthetase (ADP-forming)\n",
      "LEUt2rpp L-leucine reversible transport via proton symport (periplasm)\n",
      "ILEt2rpp L-isoleucine reversible transport via proton symport (periplasm)\n",
      "VALt2rpp L-valine reversible transport via proton symport (periplasm)\n",
      "ATPS4rpp ATP synthase (four protons for one ATP) (periplasm)\n",
      "GUAt2pp Guanine transport in via proton symport (periplasm)\n",
      "XANt2pp Xanthine transport in via proton symport (periplasm)\n",
      "ADEt2rpp Adenine transport via proton symport (reversible) (periplasm)\n",
      "NADHNQR NADH: quinone oxidoreductas, NQR-type\n",
      "ENO Enolase\n",
      "NADHNQR NADH: quinone oxidoreductas, NQR-type\n",
      "NADHNQR NADH: quinone oxidoreductas, NQR-type\n"
     ]
    }
   ],
   "source": [
    "for x in clinical_only_essential_genes:\n",
    "    for y in iYL1228.genes.get_by_id(x).reactions:\n",
    "        print(y.id, y.name)"
   ]
  },
  {
   "cell_type": "code",
   "execution_count": 25,
   "metadata": {},
   "outputs": [
    {
     "name": "stdout",
     "output_type": "stream",
     "text": [
      "DSERt2pp D-serine transport in via proton symport (periplasm)\n",
      "DALAt2pp D-alanine transport in via proton symport (periplasm)\n",
      "GLYt2pp Glycine transport in via proton symport (periplasm)\n",
      "ALAt2pp L-alanine transport in via proton symport (periplasm)\n",
      "BALAt2pp Beta-alanine transport in via proton symport (periplasm)\n",
      "DURIK1 Deoxyuridine kinase (ATP:Deoxyuridine)\n",
      "TMDK1 Thymidine kinase (ATP:thymidine)\n",
      "INSK Insosine kinase\n",
      "GSNK Guanosine kinase\n"
     ]
    }
   ],
   "source": [
    "for x in laboratory_only_essential_genes: \n",
    "    for y in iYL1228.genes.get_by_id(x).reactions:\n",
    "        print(y.id, y.name)"
   ]
  },
  {
   "cell_type": "code",
   "execution_count": 26,
   "metadata": {},
   "outputs": [
    {
     "name": "stdout",
     "output_type": "stream",
     "text": [
      "4HTHRS 4-Hydroxy-L-threonine synthase\n",
      "THRS Threonine synthase\n",
      "UAGDP UDP-N-acetylglucosamine diphosphorylase\n",
      "G1PACT Glucosamine-1-phosphate N-acetyltransferase\n",
      "DASYN120 CDP-diacylglycerol synthetase (n-C12:0)\n",
      "DASYN141 CDP-diacylglycerol synthetase (n-C14:1)\n",
      "DASYN160 CDP-diacylglycerol synthetase (n-C16:0)\n",
      "DASYN140 CDP-diacylglycerol synthetase (n-C14:0)\n",
      "DASYN181 CDP-diacylglycerol synthetase (n-C18:1)\n",
      "DASYN180 CDP-diacylglycerol synthetase (n-C18:0)\n",
      "DASYN161 CDP-diacylglycerol synthetase (n-C16:1)\n",
      "UAMAGS UDP-N-acetylmuramoyl-L-alanyl-D-glutamate synthetase\n",
      "DHDPS Dihydrodipicolinate synthase\n",
      "ATPPRT ATP phosphoribosyltransferase\n",
      "ADSL1r Adenylsuccinate lyase\n",
      "ADSL2r Adenylosuccinate lyase\n",
      "DHQS 3-dehydroquinate synthase\n",
      "PAPSR2 Phosphoadenylyl-sulfate reductase (glutaredoxin)\n",
      "PAPSR Phosphoadenylyl-sulfate reductase (thioredoxin)\n",
      "GLUPRT Glutamine phosphoribosyldiphosphate amidotransferase\n",
      "IPPMIa 3-isopropylmalate dehydratase\n",
      "IPPMIb 2-isopropylmalate hydratase\n",
      "KARA2 Ketol-acid reductoisomerase (2-Acetolactate)\n",
      "KARA1 Ketol-acid reductoisomerase (2,3-dihydroxy-3-methylbutanoate)\n",
      "DPR 2-dehydropantoate 2-reductase\n",
      "AGPAT161 1-hexadec-7-enoyl-sn-glycerol 3-phosphate O-acyltransferase (n-C16:1)\n",
      "AGPAT180 1-octadecanoyl-sn-glycerol 3-phosphate O-acyltransferase (n-C18:0)\n",
      "AGPAT120 1-tetradecanoyl-sn-glycerol 3-phosphate O-acyltransferase (n-C12:0)\n",
      "AGPAT160 1-hexadecanoyl-sn-glycerol 3-phosphate O-acyltransferase (n-C16:0)\n",
      "AGPAT141 1-tetradec-7-enoyl-sn-glycerol 3-phosphate O-acyltransferase (n-C14:1)\n",
      "AGPAT181 1-octadec-7-enoyl-sn-glycerol 3-phosphate O-acyltransferase (n-C18:1)\n",
      "AGPAT140 1-tetradecanoyl-sn-glycerol 3-phosphate O-acyltransferase (n-C14:0)\n",
      "DHDPRy Dihydrodipicolinate reductase (NADPH)\n",
      "ACCOAC Acetyl-CoA carboxylase\n",
      "ASAD Aspartate-semialdehyde dehydrogenase\n",
      "GLUR Glutamate racemase\n",
      "U23GAAT UDP-3-O-(3-hydroxymyristoyl)glucosamine acyltransferase\n",
      "HISTP Histidinol-phosphatase\n",
      "IGPDH Imidazoleglycerol-phosphate dehydratase\n",
      "PRMICI 1-(5-phosphoribosyl)-5-[(5-phosphoribosylamino)methylideneamino)imidazole-4-carboxamide isomerase\n",
      "PRAGSr Phosphoribosylglycinamide synthase\n",
      "IPMD 3-isopropylmalate dehydrogenase\n",
      "OMCDC 2-Oxo-4-methyl-3-carboxypentanoate decarboxylation\n",
      "DGK1 Deoxyguanylate kinase (dGMP:ATP)\n",
      "GK1 Guanylate kinase (GMP:ATP)\n",
      "UDPG4E UDPglucose 4-epimerase\n",
      "ACCOAC Acetyl-CoA carboxylase\n",
      "IG3PS Imidazole-glycerol-3-phosphate synthase\n",
      "MAN6PI Mannose-6-phosphate isomerase\n",
      "DHAD2 Dihydroxy-acid dehydratase (2,3-dihydroxy-3-methylpentanoate)\n",
      "DHAD1 Dihydroxy-acid dehydratase (2,3-dihydroxy-3-methylbutanoate)\n",
      "PRFGS Phosphoribosylformylglycinamidine synthase\n",
      "ASPCT Aspartate carbamoyltransferase\n",
      "KDOPS 3-deoxy -D-manno-octulosonic -acid 8-phosphate synthase\n",
      "EAR140y Enoyl-[acyl-carrier-protein] reductase (NADPH) (n-C14:0)\n",
      "EAR120x Enoyl-[acyl-carrier-protein] reductase (NADH) (n-C12:0)\n",
      "EAR100y Enoyl-[acyl-carrier-protein] reductase (NADPH) (n-C10:0)\n",
      "EAR120y Enoyl-[acyl-carrier-protein] reductase (NADPH) (n-C12:0)\n",
      "EAR161x Enoyl-[acyl-carrier-protein] reductase (NADH) (n-C16:1)\n",
      "EAR160x Enoyl-[acyl-carrier-protein] reductase (NADH) (n-C16:0)\n",
      "EAR160y Enoyl-[acyl-carrier-protein] reductase (NADPH) (n-C16:0)\n",
      "EAR40x Enoyl-[acyl-carrier-protein] reductase (NADH) (n-C4:0)\n",
      "EAR60x Enoyl-[acyl-carrier-protein] reductase (NADH) (n-C6:0)\n",
      "EAR180x Enoyl-[acyl-carrier-protein] reductase (NADH) (n-C18:0)\n",
      "EAR80y Enoyl-[acyl-carrier-protein] reductase (NADPH) (n-C8:0)\n",
      "EAR141x Enoyl-[acyl-carrier-protein] reductase (NADH) (n-C14:1)\n",
      "EAR141y Enoyl-[acyl-carrier-protein] reductase (NADPH) (n-C14:1)\n",
      "EAR100x Enoyl-[acyl-carrier-protein] reductase (NADH) (n-C10:0)\n",
      "EAR80x Enoyl-[acyl-carrier-protein] reductase (NADH) (n-C8:0)\n",
      "EAR140x Enoyl-[acyl-carrier-protein] reductase (NADH) (n-C14:0)\n",
      "EAR161y Enoyl-[acyl-carrier-protein] reductase (NADPH) (n-C16:1)\n",
      "EAR121y Enoyl-[acyl-carrier-protein] reductase (NADPH) (n-C12:1)\n",
      "EAR180y Enoyl-[acyl-carrier-protein] reductase (NADPH) (n-C18:0)\n",
      "EAR121x Enoyl-[acyl-carrier-protein] reductase (NADH) (n-C12:1)\n",
      "EAR181y Enoyl-[acyl-carrier-protein] reductase (NADPH) (n-C18:1)\n",
      "EAR60y Enoyl-[acyl-carrier-protein] reductase (NADPH) (n-C6:0)\n",
      "EAR40y Enoyl-[acyl-carrier-protein] reductase (NADPH) (n-C4:0)\n",
      "EAR181x Enoyl-[acyl-carrier-protein] reductase (NADH) (n-C18:1)\n",
      "PGAMT Phosphoglucosamine mutase\n",
      "S7PI Sedoheptulose 7-phosphate isomerase\n",
      "ADSK Adenylyl-sulfate kinase\n",
      "UAAGDS UDP-N-acetylmuramoyl-L-alanyl-D-glutamyl-meso-2,6-diaminopimelate synthetase\n",
      "DTMPK DTMP kinase\n",
      "ACCOAC Acetyl-CoA carboxylase\n",
      "KDOPP 3-deoxy-manno-octulosonate-8-phosphatase\n",
      "3HAD161 3-hydroxyacyl-[acyl-carrier-protein] dehydratase (n-C16:1)\n",
      "3HAD120 3-hydroxyacyl-[acyl-carrier-protein] dehydratase (n-C12:0)\n",
      "3HAD100 3-hydroxyacyl-[acyl-carrier-protein] dehydratase (n-C10:0)\n",
      "3HAD160 3-hydroxyacyl-[acyl-carrier-protein] dehydratase (n-C16:0)\n",
      "3HAD40 3-hydroxyacyl-[acyl-carrier-protein] dehydratase (n-C4:0)\n",
      "3HAD121 3-hydroxyacyl-[acyl-carrier-protein] dehydratase (n-C12:1)\n",
      "3HAD181 3-hydroxyacyl-[acyl-carrier-protein] dehydratase (n-C18:1)\n",
      "3HAD60 3-hydroxyacyl-[acyl-carrier-protein] dehydratase (n-C6:0)\n",
      "3HAD80 3-hydroxyacyl-[acyl-carrier-protein] dehydratase (n-C8:0)\n",
      "3HAD180 3-hydroxyacyl-[acyl-carrier-protein] dehydratase (n-C18:0)\n",
      "T2DECAI Trans-2-decenoyl-ACP isomerase\n",
      "3HAD141 3-hydroxyacyl-[acyl-carrier-protein] dehydratase (n-C14:1)\n",
      "3HAD140 3-hydroxyacyl-[acyl-carrier-protein] dehydratase (n-C14:0)\n",
      "AGPR N-acetyl-g-glutamyl-phosphate reductase\n",
      "CHORS Chorismate synthase\n",
      "SADT2 Sulfate adenyltransferase\n",
      "PRAIS Phosphoribosylaminoimidazole synthase\n",
      "OMPDC Orotidine-5'-phosphate decarboxylase\n",
      "PSCVT 3-phosphoshikimate 1-carboxyvinyltransferase\n",
      "ORPT Orotate phosphoribosyltransferase\n",
      "PRASCSi Phosphoribosylaminoimidazolesuccinocarboxamide synthase\n",
      "FLVR Flavin reductase\n",
      "FMNRx2 FMN reductase\n",
      "FADRx2 FAD reductase\n",
      "SULR Sulfite reductase (NADPH2)\n",
      "PHETA1 Phenylalanine transaminase\n",
      "VALTA Valine transaminase\n",
      "ILETA Isoleucine transaminase\n",
      "LEUTAi Leucine transaminase (irreversible)\n",
      "IMPD IMP dehydrogenase\n",
      "GLA UDP-galacturonate 4-epimerase\n",
      "DHORTS Dihydroorotase\n",
      "TRPS1 Tryptophan synthase (indoleglycerol phosphate)\n",
      "TRPS3 Tryptophan synthase (indoleglycerol phosphate)\n",
      "TRPS2 Tryptophan synthase (indole)\n",
      "HISTD Histidinol dehydrogenase\n",
      "PA120abcpp Phosphatidate transport via ABC system (n-C12:0, periplasm)\n",
      "PE120abcpp Phosphatidylethanolamine transport via ABC system (n-C12:0, periplasm)\n",
      "PGP141abcpp Phosphatidylglycerophosphate transport via ABC system (n-C14:1, periplasm)\n",
      "PA141abcpp Phosphatidate transport via ABC system (n-C14:1, periplasm)\n",
      "PG120abcpp Phosphatidylglycerol transport via ABC system (n-C12:0, periplasm)\n",
      "PA160abcpp Phosphatidate transport via ABC system (n-C16:0, periplasm)\n",
      "PG141abcpp Phosphatidylglycerol transport via ABC system (n-C14:1, periplasm)\n",
      "PG181abcpp Phosphatidylglycerol transport via ABC system (n-C18:1, periplasm)\n",
      "PE160abcpp Phosphatidylethanolamine transport via ABC system (n-C16:0, periplasm)\n",
      "PE180abcpp Phosphatidylethanolamine transport via ABC system (n-C18:0, periplasm)\n",
      "COLIPAabcpp Core oligosaccharide lipid A transport via ABC system (periplasm)\n",
      "PG140abcpp Phosphatidylglycerol transport via ABC system (n-C14:0, periplasm)\n",
      "PGP160abcpp Phosphatidylglycerophosphate transport via ABC system (n-C16:0, periplasm)\n",
      "PGP140abcpp Phosphatidylglycerophosphate transport via ABC system (n-C14:0, periplasm)\n",
      "LIPACabcpp Lipid (cold) A transport via ABC system (periplasm)\n",
      "PA180abcpp Phosphatidate transport via ABC system (n-C18:0, periplasm)\n",
      "PG180abcpp Phosphatidylglycerol transport via ABC system (n-C18:0, periplasm)\n",
      "PGP120abcpp Phosphatidylglycerophosphate transport via ABC system (n-C12:0, periplasm)\n",
      "PE181abcpp Phosphatidylethanolamine transport via ABC system (n-C18:1, periplasm)\n",
      "PG161abcpp Phosphatidylglycerol transport via ABC system (n-C16:1, periplasm)\n",
      "PE141abcpp Phosphatidylethanolamine transport via ABC system (n-C14:1, periplasm)\n",
      "PG160abcpp Phosphatidylglycerol transport via ABC system (n-C16:0, periplasm)\n",
      "K2L4Aabcpp KDO(2)-lipid IV A transport via ABC system (periplasm)\n",
      "LIPAabcpp Lipid A transport via ABC system (periplasm)\n",
      "PA181abcpp Phosphatidate transport via ABC system (n-C18:1, periplasm)\n",
      "PGP180abcpp Phosphatidylglycerophosphate transport via ABC system (n-C18:0, periplasm)\n",
      "PGP181abcpp Phosphatidylglycerophosphate transport via ABC system (n-C18:1, periplasm)\n",
      "PE161abcpp Phosphatidylethanolamine transport via ABC system (n-C16:1, periplasm)\n",
      "PGP161abcpp Phosphatidylglycerophosphate transport via ABC system (n-C16:1, periplasm)\n",
      "PA161abcpp Phosphatidate transport via ABC system (n-C16:1, periplasm)\n",
      "PA140abcpp Phosphatidate transport via ABC system (n-C14:0, periplasm)\n",
      "PE140abcpp Phosphatidylethanolamine transport via ABC system (n-C14:0, periplasm)\n",
      "UAPGR UDP-N-acetylenolpyruvoylglucosamine reductase\n",
      "PGSA120 Phosphatidylglycerol synthase (n-C12:0)\n",
      "PGSA140 Phosphatidylglycerol synthase (n-C14:0)\n",
      "PGSA180 Phosphatidylglycerol synthase (n-C18:0)\n",
      "PGSA160 Phosphatidylglycerol synthase (n-C16:0)\n",
      "PGSA181 Phosphatidylglycerol synthase (n-C18:1)\n",
      "PGSA141 Phosphatidylglycerol synthase (n-C14:1)\n",
      "PGSA161 Phosphatidylglycerol synthase (n-C16:1)\n",
      "UAGAAT UDP-N-acetylglucosamine acyltransferase\n",
      "ACGK Acetylglutamate kinase\n",
      "UAMAS UDP-N-acetylmuramoyl-L-alanine synthetase\n",
      "GMHEPAT D-glycero-D-manno-hepose 1-phosphate adenyltransferase\n",
      "GMHEPK D-glycero-D-manno-heptose 7-phosphate kinase\n",
      "CD2tpp Cadmium (+2) transport in via permease (no H+)\n",
      "COBALT2tpp Cobalt transport in via permease (no H+)\n",
      "CU2tpp Copper transport in via permease (no H+)\n",
      "ZN2tpp Zinc transport in via permease (no H+)\n",
      "FE2tpp Iron (+2) transport in via permease (no H+)\n",
      "MN2tpp Manganese transport in via permease (no H+)\n",
      "3OAR60 3-oxoacyl-[acyl-carrier-protein] reductase (n-C6:0)\n",
      "3OAR120 3-oxoacyl-[acyl-carrier-protein] reductase (n-C12:0)\n",
      "3OAR180 3-oxoacyl-[acyl-carrier-protein] reductase (n-C18:0)\n",
      "3OAR161 3-oxoacyl-[acyl-carrier-protein] reductase (n-C16:1)\n",
      "3OAR40 3-oxoacyl-[acyl-carrier-protein] reductase (n-C4:0)\n",
      "3OAR80 3-oxoacyl-[acyl-carrier-protein] reductase (n-C8:0)\n",
      "3OAR141 3-oxoacyl-[acyl-carrier-protein] reductase (n-C14:1)\n",
      "3OAR181 3-oxoacyl-[acyl-carrier-protein] reductase (n-C18:1)\n",
      "3OAR121 3-oxoacyl-[acyl-carrier-protein] reductase (n-C12:1)\n",
      "3OAR160 3-oxoacyl-[acyl-carrier-protein] reductase (n-C16:0)\n",
      "3OAR100 3-oxoacyl-[acyl-carrier-protein] reductase (n-C10:0)\n",
      "3OAR140 3-oxoacyl-[acyl-carrier-protein] reductase (n-C14:0)\n",
      "AIRC2 Phosphoribosylaminoimidazole carboxylase\n",
      "USHD UDP-sugar hydrolase\n",
      "PPNDH Prephenate dehydratase\n",
      "CHORM Chorismate mutase\n",
      "GMHEPPA D-glycero-D-manno-heptose 1,7-bisphosphate phosphatase\n",
      "IMPC IMP cyclohydrolase\n",
      "AICART Phosphoribosylaminoimidazolecarboxamide formyltransferase\n",
      "3OAS121 3-oxoacyl-[acyl-carrier-protein] synthase (n-C12:1)\n",
      "3OAS141 3-oxoacyl-[acyl-carrier-protein] synthase (n-C14:1)\n",
      "3OAS180 3-oxoacyl-[acyl-carrier-protein] synthase (n-C18:0)\n",
      "3OAS60 3-oxoacyl-[acyl-carrier-protein] synthase (n-C6:0)\n",
      "3OAS140 3-oxoacyl-[acyl-carrier-protein] synthase (n-C14:0)\n",
      "3OAS100 3-oxoacyl-[acyl-carrier-protein] synthase (n-C10:0)\n",
      "3OAS80 3-oxoacyl-[acyl-carrier-protein] synthase (n-C8:0)\n",
      "KAS14 Beta-ketoacyl-ACP synthase\n",
      "MACPD Malonyl-ACP decarboxylase\n",
      "3OAS120 3-oxoacyl-[acyl-carrier-protein] synthase (n-C12:0)\n",
      "3OAS161 3-oxoacyl-[acyl-carrier-protein] synthase (n-C16:1)\n",
      "3OAS160 3-oxoacyl-[acyl-carrier-protein] synthase (n-C16:0)\n",
      "NH4tpp Ammonia reversible transport (periplasm)\n",
      "MCOATA Malonyl-CoA-ACP transacylase\n",
      "AACPS1 Acyl-[acyl-carrier-protein] synthetase (n-C14:0)\n",
      "AACPS4 Acyl-[acyl-carrier-protein] synthetase  (n-C16:1)\n",
      "AACPS8 Acyl-[acyl-carrier-protein] synthetase  (n-C10:0)\n",
      "AACPS5 Acyl-[acyl-carrier-protein] synthetase  (n-C18:1)\n",
      "AACPS6 Acyl-[acyl-carrier-protein] synthetase  (n-C18:0)\n",
      "AACPS9 Acyl-[acyl-carrier-protein] synthetase  (n-C8:0)\n",
      "AACPS2 Acyl-[acyl-carrier-protein] synthetase  (n-C14:1)\n",
      "AACPS7 Acyl-[acyl-carrier-protein] synthetase  (n-C12:0)\n",
      "AACPS3 Acyl-[acyl-carrier-protein] synthetase  (n-C16:0)\n",
      "ACOATA Acetyl-CoA ACP transacylase\n",
      "TDSK Tetraacyldisaccharide 4'kinase\n",
      "FLVR Flavin reductase\n",
      "FMNRx2 FMN reductase\n",
      "FADRx2 FAD reductase\n",
      "SULR Sulfite reductase (NADPH2)\n",
      "GMPS2 GMP synthase\n",
      "SHSL1 O-succinylhomoserine lyase (L-cysteine)\n",
      "PSD181 Phosphatidylserine decarboxylase (n-C18:1)\n",
      "PSD160 Phosphatidylserine decarboxylase (n-C16:0)\n",
      "PSD140 Phosphatidylserine decarboxylase (n-C14:0)\n",
      "PSD120 Phosphatidylserine decarboxylase (n-C12:0)\n",
      "PSD161 Phosphatidylserine decarboxylase (n-C16:1)\n",
      "PSD180 Phosphatidylserine decarboxylase (n-C18:0)\n",
      "PSD141 Phosphatidylserine decarboxylase (n-C14:1)\n",
      "DAPE Diaminopimelate epimerase\n",
      "UHGADA UDP-3-O-acetylglucosamine deacetylase\n",
      "PPND Prephenate dehydrogenase\n",
      "CHORM Chorismate mutase\n",
      "UAGPT3 UDP-N-acetylglucosamine-N-acetylmuramyl-(pentapeptide)pyrophosphoryl-undecaprenol N-acetylglucosamine transferase\n",
      "ACCOAC Acetyl-CoA carboxylase\n",
      "OCBT Ornithine carbamoyltransferase\n",
      "DHORD2 Dihydoorotic acid dehydrogenase (quinone8)\n",
      "DHORD5 Dihydroorotic acid (menaquinone-8)\n",
      "PRATPP Phosphoribosyl-ATP pyrophosphatase\n",
      "PRAMPC Phosphoribosyl-AMP cyclohydrolase\n",
      "ANS Anthranilate synthase\n",
      "SDPDS Succinyl-diaminopimelate desuccinylase\n",
      "UGMDDS UDP-N-acetylmuramoyl-L-alanyl-D-glutamyl-meso-2,6-diaminopimeloyl-D-alanyl-D-alanine synthetase\n",
      "MCOATA Malonyl-CoA-ACP transacylase\n",
      "PSSA180 Phosphatidylserine syntase (n-C18:0)\n",
      "PSSA120 Phosphatidylserine syntase (n-C12:0)\n",
      "PSSA160 Phosphatidylserine syntase (n-C16:0)\n",
      "PSSA161 Phosphatidylserine syntase (n-C16:1)\n",
      "PSSA140 Phosphatidylserine syntase (n-C14:0)\n",
      "PSSA181 Phosphatidylserine syntase (n-C18:1)\n",
      "PSSA141 Phosphatidylserine syntase (n-C14:1)\n",
      "ADSS Adenylosuccinate synthase\n",
      "UAGCVT UDP-N-acetylglucosamine 1-carboxyvinyltransferase\n",
      "IG3PS Imidazole-glycerol-3-phosphate synthase\n",
      "TRPS1 Tryptophan synthase (indoleglycerol phosphate)\n",
      "TRPS3 Tryptophan synthase (indoleglycerol phosphate)\n",
      "TRPS2 Tryptophan synthase (indole)\n",
      "IGPS Indole-3-glycerol-phosphate synthase\n",
      "PRAIi Phosphoribosylanthranilate isomerase (irreversible)\n",
      "G3PAT120 Glycerol-3-phosphate acyltransferase (C12:0)\n",
      "G3PAT161 Glycerol-3-phosphate acyltransferase (C16:1)\n",
      "G3PAT140 Glycerol-3-phosphate acyltransferase (C14:0)\n",
      "G3PAT141 Glycerol-3-phosphate acyltransferase (C14:1)\n",
      "G3PAT160 Glycerol-3-phosphate acyltransferase (C16:0)\n",
      "G3PAT180 Glycerol-3-phosphate acyltransferase (C18:0)\n",
      "G3PAT181 Glycerol-3-phosphate acyltransferase (C18:1)\n",
      "HSTPT Histidinol-phosphate transaminase\n",
      "GALUi UTP-glucose-1-phosphate uridylyltransferase (irreversible)\n",
      "CTPS2 CTP synthase (glutamine)\n",
      "DAPDC Diaminopimelate decarboxylase\n",
      "AGMHE ADP-D-glycero-D-manno-heptose epimerase\n",
      "HSK Homoserine kinase\n",
      "ASPCT Aspartate carbamoyltransferase\n",
      "HSST Homoserine O-succinyltransferase\n",
      "UDPGD UDPglucose 6-dehydrogenase\n",
      "G3PD2 Glycerol-3-phosphate dehydrogenase (NADP)\n",
      "IPPMIa 3-isopropylmalate dehydratase\n",
      "IPPMIb 2-isopropylmalate hydratase\n",
      "3OAS180 3-oxoacyl-[acyl-carrier-protein] synthase (n-C18:0)\n",
      "3OAS60 3-oxoacyl-[acyl-carrier-protein] synthase (n-C6:0)\n",
      "3OAS140 3-oxoacyl-[acyl-carrier-protein] synthase (n-C14:0)\n",
      "3OAS100 3-oxoacyl-[acyl-carrier-protein] synthase (n-C10:0)\n",
      "3OAS80 3-oxoacyl-[acyl-carrier-protein] synthase (n-C8:0)\n",
      "KAS14 Beta-ketoacyl-ACP synthase\n",
      "PYK Pyruvate kinase\n",
      "3OAS120 3-oxoacyl-[acyl-carrier-protein] synthase (n-C12:0)\n",
      "3OAS181 3-oxoacyl-[acyl-carrier-protein] synthase (n-C18:1)\n",
      "3OAS160 3-oxoacyl-[acyl-carrier-protein] synthase (n-C16:0)\n",
      "THDPS Tetrahydrodipicolinate succinylase\n",
      "ACGS N-acetylglutamate synthase\n",
      "AIRC3 Phosphoribosylaminoimidazole carboxylase (mutase rxn)\n",
      "AOBUTDs L-2-amino-3-oxobutanoate decarboxylation (spontaneous)\n",
      "N2Otpp Nitrious oxide transport (diffusion)\n",
      "ACONIs Aconitate isomerase (spontaneous)\n",
      "H2tpp Hydrogen transport diffusion (periplasm)\n",
      "O2tpp O2 transport via diffusion (periplasm)\n",
      "CO2tpp CO2 transporter via diffusion (periplasm)\n",
      "BZt Benzoate transport (diffusion)\n",
      "G5SADs L-glutamate 5-semialdehyde dehydratase (spontaneous)\n",
      "NH4tex Ammonia transport via diffusion (extracellular to periplasm)\n",
      "ACALDtpp Acetaldehyde reversible transport (periplasm)\n",
      "SO2tpp SO2 transport via diffusion (periplasm)\n",
      "NOtpp NO transport (diffusion)\n",
      "LPADSS Lipid A disaccaride synthase\n",
      "PAPPT3 Phospho-N-acetylmuramoyl-pentapeptide-transferase (meso-2,6-diaminopimelate)\n",
      "TMDS Thymidylate synthase\n",
      "ANS Anthranilate synthase\n",
      "ANPRT Anthranilate phosphoribosyltransferase\n",
      "P5CR Pyrroline-5-carboxylate reductase\n",
      "DHQTi 3-dehydroquinate dehydratase, irreversible\n",
      "SADT2 Sulfate adenyltransferase\n",
      "GF6PTA Glutamine-fructose-6-phosphate transaminase\n"
     ]
    }
   ],
   "source": [
    "for x in core_essential_genes:\n",
    "    for y in iYL1228.genes.get_by_id(x).reactions:\n",
    "        print(y.id, y.name)"
   ]
  },
  {
   "cell_type": "code",
   "execution_count": null,
   "metadata": {},
   "outputs": [],
   "source": []
  },
  {
   "cell_type": "code",
   "execution_count": null,
   "metadata": {},
   "outputs": [],
   "source": []
  },
  {
   "cell_type": "code",
   "execution_count": null,
   "metadata": {},
   "outputs": [],
   "source": []
  },
  {
   "cell_type": "code",
   "execution_count": null,
   "metadata": {},
   "outputs": [],
   "source": []
  },
  {
   "cell_type": "code",
   "execution_count": null,
   "metadata": {},
   "outputs": [],
   "source": []
  },
  {
   "cell_type": "code",
   "execution_count": 8,
   "metadata": {},
   "outputs": [],
   "source": [
    "import cobra\n",
    "from cobra.medium import minimal_medium\n",
    "\n",
    "# Non-exhaustive\n",
    "def find_essential_metabolites(model, fraction=0.1):\n",
    "\n",
    "    min_growth = model.slim_optimize() * fraction\n",
    "    warnings.filterwarnings('ignore')\n",
    "    ser = minimal_medium(model, min_objective_value=min_growth, minimize_components=True)\n",
    "    warnings.filterwarnings('default')\n",
    "\n",
    "    rxns = list(ser.index)\n",
    "    fluxes = list(ser.values)\n",
    "    cpds = []\n",
    "    for x in rxns: cpds.append(model.reactions.get_by_id(x).reactants[0].name)        \n",
    "    \n",
    "    media = {'Reaction': rxns, 'Substrate': cpds, 'Units': fluxes}    \n",
    "    media = pandas.DataFrame(media)\n",
    "    print('Minimal media components: ' + str(len(media.index)))\n",
    "    \n",
    "    return(media)\n",
    "\n",
    "iYL1228_clinical = cobra.io.read_sbml_model('/home/mjenior/Desktop/repos/Klebsiella_2021/data/clinical_maxfit_reps/model.sbml')\n",
    "iYL1228_laboratory = cobra.io.read_sbml_model('/home/mjenior/Desktop/repos/Klebsiella_2021/data/laboratory_maxfit_reps/model.sbml')"
   ]
  },
  {
   "cell_type": "code",
   "execution_count": 9,
   "metadata": {},
   "outputs": [
    {
     "name": "stdout",
     "output_type": "stream",
     "text": [
      "Minimal media components: 21\n"
     ]
    }
   ],
   "source": [
    "clinical_minmedia = find_essential_metabolites(iYL1228_clinical)"
   ]
  },
  {
   "cell_type": "code",
   "execution_count": 11,
   "metadata": {},
   "outputs": [
    {
     "name": "stdout",
     "output_type": "stream",
     "text": [
      "Minimal media components: 16\n"
     ]
    }
   ],
   "source": [
    "laboratory_minmedia = find_essential_metabolites(iYL1228_laboratory)"
   ]
  },
  {
   "cell_type": "code",
   "execution_count": 16,
   "metadata": {},
   "outputs": [
    {
     "data": {
      "text/html": [
       "<div>\n",
       "<style scoped>\n",
       "    .dataframe tbody tr th:only-of-type {\n",
       "        vertical-align: middle;\n",
       "    }\n",
       "\n",
       "    .dataframe tbody tr th {\n",
       "        vertical-align: top;\n",
       "    }\n",
       "\n",
       "    .dataframe thead th {\n",
       "        text-align: right;\n",
       "    }\n",
       "</style>\n",
       "<table border=\"1\" class=\"dataframe\">\n",
       "  <thead>\n",
       "    <tr style=\"text-align: right;\">\n",
       "      <th></th>\n",
       "      <th>Reaction</th>\n",
       "      <th>Substrate</th>\n",
       "      <th>Units</th>\n",
       "    </tr>\n",
       "  </thead>\n",
       "  <tbody>\n",
       "    <tr>\n",
       "      <th>0</th>\n",
       "      <td>EX_cys__L_e</td>\n",
       "      <td>L-Cysteine</td>\n",
       "      <td>0.066098</td>\n",
       "    </tr>\n",
       "    <tr>\n",
       "      <th>1</th>\n",
       "      <td>EX_dcyt_e</td>\n",
       "      <td>Deoxycytidine</td>\n",
       "      <td>0.410996</td>\n",
       "    </tr>\n",
       "    <tr>\n",
       "      <th>2</th>\n",
       "      <td>EX_adn_e</td>\n",
       "      <td>Adenosine</td>\n",
       "      <td>4.672855</td>\n",
       "    </tr>\n",
       "    <tr>\n",
       "      <th>3</th>\n",
       "      <td>EX_arg__L_e</td>\n",
       "      <td>L-Arginine</td>\n",
       "      <td>0.259309</td>\n",
       "    </tr>\n",
       "    <tr>\n",
       "      <th>4</th>\n",
       "      <td>EX_pi_e</td>\n",
       "      <td>Phosphate</td>\n",
       "      <td>0.967341</td>\n",
       "    </tr>\n",
       "    <tr>\n",
       "      <th>5</th>\n",
       "      <td>EX_pro__L_e</td>\n",
       "      <td>L-Proline</td>\n",
       "      <td>0.161856</td>\n",
       "    </tr>\n",
       "    <tr>\n",
       "      <th>6</th>\n",
       "      <td>EX_his__L_e</td>\n",
       "      <td>L-Histidine</td>\n",
       "      <td>4.410170</td>\n",
       "    </tr>\n",
       "    <tr>\n",
       "      <th>7</th>\n",
       "      <td>EX_ile__L_e</td>\n",
       "      <td>L-Isoleucine</td>\n",
       "      <td>0.168636</td>\n",
       "    </tr>\n",
       "    <tr>\n",
       "      <th>8</th>\n",
       "      <td>EX_trp__L_e</td>\n",
       "      <td>L-Tryptophan</td>\n",
       "      <td>0.055929</td>\n",
       "    </tr>\n",
       "    <tr>\n",
       "      <th>9</th>\n",
       "      <td>EX_tyr__L_e</td>\n",
       "      <td>L-Tyrosine</td>\n",
       "      <td>0.055929</td>\n",
       "    </tr>\n",
       "    <tr>\n",
       "      <th>10</th>\n",
       "      <td>EX_val__L_e</td>\n",
       "      <td>L-Valine</td>\n",
       "      <td>0.270325</td>\n",
       "    </tr>\n",
       "    <tr>\n",
       "      <th>11</th>\n",
       "      <td>EX_leu__L_e</td>\n",
       "      <td>L-Leucine</td>\n",
       "      <td>0.324560</td>\n",
       "    </tr>\n",
       "    <tr>\n",
       "      <th>12</th>\n",
       "      <td>EX_lys__L_e</td>\n",
       "      <td>L-Lysine</td>\n",
       "      <td>0.202532</td>\n",
       "    </tr>\n",
       "    <tr>\n",
       "      <th>13</th>\n",
       "      <td>EX_met__L_e</td>\n",
       "      <td>L-Methionine</td>\n",
       "      <td>0.080504</td>\n",
       "    </tr>\n",
       "    <tr>\n",
       "      <th>14</th>\n",
       "      <td>EX_o2_e</td>\n",
       "      <td>O2 O2</td>\n",
       "      <td>18.414081</td>\n",
       "    </tr>\n",
       "    <tr>\n",
       "      <th>15</th>\n",
       "      <td>EX_phe__L_e</td>\n",
       "      <td>L-Phenylalanine</td>\n",
       "      <td>0.178805</td>\n",
       "    </tr>\n",
       "  </tbody>\n",
       "</table>\n",
       "</div>"
      ],
      "text/plain": [
       "       Reaction        Substrate      Units\n",
       "0   EX_cys__L_e       L-Cysteine   0.066098\n",
       "1     EX_dcyt_e    Deoxycytidine   0.410996\n",
       "2      EX_adn_e        Adenosine   4.672855\n",
       "3   EX_arg__L_e       L-Arginine   0.259309\n",
       "4       EX_pi_e        Phosphate   0.967341\n",
       "5   EX_pro__L_e        L-Proline   0.161856\n",
       "6   EX_his__L_e      L-Histidine   4.410170\n",
       "7   EX_ile__L_e     L-Isoleucine   0.168636\n",
       "8   EX_trp__L_e     L-Tryptophan   0.055929\n",
       "9   EX_tyr__L_e       L-Tyrosine   0.055929\n",
       "10  EX_val__L_e         L-Valine   0.270325\n",
       "11  EX_leu__L_e        L-Leucine   0.324560\n",
       "12  EX_lys__L_e         L-Lysine   0.202532\n",
       "13  EX_met__L_e     L-Methionine   0.080504\n",
       "14      EX_o2_e            O2 O2  18.414081\n",
       "15  EX_phe__L_e  L-Phenylalanine   0.178805"
      ]
     },
     "execution_count": 16,
     "metadata": {},
     "output_type": "execute_result"
    }
   ],
   "source": [
    "laboratory_minmedia"
   ]
  },
  {
   "cell_type": "code",
   "execution_count": null,
   "metadata": {},
   "outputs": [],
   "source": []
  },
  {
   "cell_type": "code",
   "execution_count": null,
   "metadata": {},
   "outputs": [],
   "source": []
  },
  {
   "cell_type": "code",
   "execution_count": 17,
   "metadata": {},
   "outputs": [],
   "source": [
    "# dFBA - simulating valine uptake\n",
    "import numpy as np\n",
    "from tqdm import tqdm\n",
    "from scipy.integrate import solve_ivp\n",
    "import matplotlib.pyplot as plt\n",
    "%matplotlib inline\n",
    "\n",
    "# https://cobrapy.readthedocs.io/en/latest/dfba.html\n",
    "\n",
    "def add_dynamic_bounds(model, y):\n",
    "    biomass, valine = y  # expand the boundary species\n",
    "    valine_max_import = -10 * valine / (5 + valine)\n",
    "    model.reactions.EX_val__L_e.lower_bound = valine_max_import\n",
    "\n",
    "\n",
    "def dynamic_system(t, y):\n",
    "    \"\"\"Calculate the time derivative of external species.\"\"\"\n",
    "\n",
    "    biomass, valine = y  # expand the boundary species\n",
    "\n",
    "    # Calculate the specific exchanges fluxes at the given external concentrations.\n",
    "    with model:\n",
    "        add_dynamic_bounds(model, y)\n",
    "\n",
    "        cobra.util.add_lp_feasibility(model)\n",
    "        feasibility = cobra.util.fix_objective_as_constraint(model)\n",
    "        lex_constraints = cobra.util.add_lexicographic_constraints(\n",
    "            model, ['BIOMASS_', 'EX_val__L_e'], ['max', 'max'])\n",
    "\n",
    "    # Since the calculated fluxes are specific rates, we multiply them by the\n",
    "    # biomass concentration to get the bulk exchange rates.\n",
    "    fluxes = lex_constraints.values\n",
    "    fluxes *= biomass\n",
    "\n",
    "    # This implementation is **not** efficient, so I display the current\n",
    "    # simulation time using a progress bar.\n",
    "    if dynamic_system.pbar is not None:\n",
    "        dynamic_system.pbar.update(1)\n",
    "        dynamic_system.pbar.set_description('t = {:.3f}'.format(t))\n",
    "\n",
    "    return fluxes\n",
    "\n",
    "dynamic_system.pbar = None\n",
    "\n",
    "\n",
    "def infeasible_event(t, y):\n",
    "    \"\"\"\n",
    "    Determine solution feasibility.\n",
    "\n",
    "    Avoiding infeasible solutions is handled by solve_ivp's built-in event detection.\n",
    "    This function re-solves the LP to determine whether or not the solution is feasible\n",
    "    (and if not, how far it is from feasibility). When the sign of this function changes\n",
    "    from -epsilon to positive, we know the solution is no longer feasible.\n",
    "\n",
    "    \"\"\"\n",
    "\n",
    "    with model:\n",
    "\n",
    "        add_dynamic_bounds(model, y)\n",
    "\n",
    "        cobra.util.add_lp_feasibility(model)\n",
    "        feasibility = cobra.util.fix_objective_as_constraint(model)\n",
    "\n",
    "    return feasibility - infeasible_event.epsilon\n",
    "\n",
    "infeasible_event.epsilon = 1E-6\n",
    "infeasible_event.direction = 1\n",
    "infeasible_event.terminal = True\n"
   ]
  },
  {
   "cell_type": "code",
   "execution_count": 54,
   "metadata": {},
   "outputs": [
    {
     "name": "stderr",
     "output_type": "stream",
     "text": [
      "t = 3.563: : 326it [01:18,  4.16it/s]\n"
     ]
    }
   ],
   "source": [
    "\n",
    "model = iYL1228_laboratory\n",
    "ts = np.linspace(0, 5, 100)  # Desired integration resolution and interval\n",
    "y0 = [0.1, 100]\n",
    "\n",
    "with tqdm() as pbar:\n",
    "    dynamic_system.pbar = pbar\n",
    "\n",
    "    sol = solve_ivp(\n",
    "        fun=dynamic_system,\n",
    "        events=[infeasible_event],\n",
    "        t_span=(ts.min(), ts.max()),\n",
    "        y0=y0,\n",
    "        t_eval=ts,\n",
    "        rtol=1e-6,\n",
    "        atol=1e-8,\n",
    "        method='BDF'\n",
    "    )"
   ]
  },
  {
   "cell_type": "code",
   "execution_count": 55,
   "metadata": {},
   "outputs": [
    {
     "data": {
      "text/plain": [
       "Text(0, 0.5, 'Valine')"
      ]
     },
     "execution_count": 55,
     "metadata": {},
     "output_type": "execute_result"
    },
    {
     "data": {
      "image/png": "[encoded data removed]",
      "text/plain": [
       "<Figure size 432x288 with 2 Axes>"
      ]
     },
     "metadata": {
      "needs_background": "light"
     },
     "output_type": "display_data"
    }
   ],
   "source": [
    "ax = plt.subplot(111)\n",
    "ax.plot(sol.t, sol.y.T[:, 0])\n",
    "ax2 = plt.twinx(ax)\n",
    "ax2.plot(sol.t, sol.y.T[:, 1], color='r')\n",
    "\n",
    "ax.set_ylabel('Biomass', color='b')\n",
    "ax2.set_ylabel('Valine', color='r')"
   ]
  },
  {
   "cell_type": "code",
   "execution_count": 56,
   "metadata": {},
   "outputs": [],
   "source": [
    "hours = list(sol.t)\n",
    "biomass = list(sol.y.T[:, 0])\n",
    "valine = list(sol.y.T[:, 1])\n",
    "laboratory_growth = {'time': hours, 'biomass': biomass, 'valine': valine}    \n",
    "laboratory_growth = pandas.DataFrame(laboratory_growth)"
   ]
  },
  {
   "cell_type": "code",
   "execution_count": 57,
   "metadata": {},
   "outputs": [],
   "source": [
    "laboratory_growth.to_csv('/home/mjenior/Desktop/repos/Klebsiella_2021/data/laboratory_dFBA.tsv', index=False, sep='\\t')"
   ]
  },
  {
   "cell_type": "code",
   "execution_count": 58,
   "metadata": {},
   "outputs": [
    {
     "name": "stderr",
     "output_type": "stream",
     "text": [
      "t = 5.000: : 1590it [06:19,  4.19it/s]\n"
     ]
    }
   ],
   "source": [
    "\n",
    "model = iYL1228_clinical\n",
    "ts = np.linspace(0, 5, 100)  # Desired integration resolution and interval\n",
    "y0 = [0.1, 100]\n",
    "\n",
    "with tqdm() as pbar:\n",
    "    dynamic_system.pbar = pbar\n",
    "\n",
    "    sol = solve_ivp(\n",
    "        fun=dynamic_system,\n",
    "        events=[infeasible_event],\n",
    "        t_span=(ts.min(), ts.max()),\n",
    "        y0=y0,\n",
    "        t_eval=ts,\n",
    "        rtol=1e-6,\n",
    "        atol=1e-8,\n",
    "        method='BDF'\n",
    "    )"
   ]
  },
  {
   "cell_type": "code",
   "execution_count": 63,
   "metadata": {},
   "outputs": [
    {
     "data": {
      "text/plain": [
       "Text(0, 0.5, 'Valine')"
      ]
     },
     "execution_count": 63,
     "metadata": {},
     "output_type": "execute_result"
    },
    {
     "data": {
      "image/png": "[encoded data removed]",
      "text/plain": [
       "<Figure size 432x288 with 2 Axes>"
      ]
     },
     "metadata": {
      "needs_background": "light"
     },
     "output_type": "display_data"
    }
   ],
   "source": [
    "ax = plt.subplot(111)\n",
    "ax.plot(sol.t, sol.y.T[:, 1], color='#B13AED')\n",
    "ax2 = plt.twinx(ax)\n",
    "ax2.plot(sol.t, sol.y.T[:, 0], color='#76EEC6')\n",
    "\n",
    "ax.set_ylabel('Biomass', color='#B13AED')\n",
    "ax2.set_ylabel('Valine', color='#76EEC6')"
   ]
  },
  {
   "cell_type": "code",
   "execution_count": 60,
   "metadata": {},
   "outputs": [],
   "source": [
    "hours = list(sol.t)\n",
    "biomass = list(sol.y.T[:, 0])\n",
    "valine = list(sol.y.T[:, 1])\n",
    "clinical_growth = {'time': hours, 'biomass': biomass, 'valine': valine}    \n",
    "clinical_growth = pandas.DataFrame(clinical_growth)"
   ]
  },
  {
   "cell_type": "code",
   "execution_count": 61,
   "metadata": {},
   "outputs": [],
   "source": [
    "clinical_growth.to_csv('/home/mjenior/Desktop/repos/Klebsiella_2021/data/clinical_dFBA.tsv', index=False, sep='\\t')"
   ]
  },
  {
   "cell_type": "code",
   "execution_count": 62,
   "metadata": {},
   "outputs": [
    {
     "data": {
      "text/plain": [
       "[0.1,\n",
       " 0.11389405691345102,\n",
       " 0.12971851445704607,\n",
       " 0.14774162590613152,\n",
       " 0.16826870067782349,\n",
       " 0.19164775761923117,\n",
       " 0.21827508584529365,\n",
       " 0.2486019461899066,\n",
       " 0.28314235398521626,\n",
       " 0.32248176127460615,\n",
       " 0.3672869524522606,\n",
       " 0.4183173336848743,\n",
       " 0.47643785887678436,\n",
       " 0.5426336075316555,\n",
       " 0.6180265146781099,\n",
       " 0.7038944170078774,\n",
       " 0.8016927057835511,\n",
       " 0.9130789953144364,\n",
       " 1.0399411836042447,\n",
       " 1.1844294598690979,\n",
       " 1.3489927653197347,\n",
       " 1.536420322851127,\n",
       " 1.749888888795099,\n",
       " 1.9930165418765844,\n",
       " 2.2699240824292715,\n",
       " 2.5853048538645407,\n",
       " 2.9445042863175916,\n",
       " 3.3536104954677457,\n",
       " 3.8195574698930104,\n",
       " 4.350242597908223,\n",
       " 4.954660528222578,\n",
       " 5.643055614930593,\n",
       " 6.427095546798285,\n",
       " 7.320069105276869,\n",
       " 8.3371113954238,\n",
       " 9.49546037750023,\n",
       " 10.814749032829834,\n",
       " 12.317338120490644,\n",
       " 14.028695169793894,\n",
       " 15.97782666169099,\n",
       " 18.197768372451186,\n",
       " 20.726146353158885,\n",
       " 23.605814404527024,\n",
       " 26.885580381980965,\n",
       " 30.621033445046915,\n",
       " 34.875486225544904,\n",
       " 39.721047924512405,\n",
       " 45.23984656642788,\n",
       " 51.52542094384906,\n",
       " 58.684305985370884,\n",
       " 66.83783843470806,\n",
       " 76.12421287635459,\n",
       " 86.70082492564755,\n",
       " 98.74693890620641,\n",
       " 112.46672570152732,\n",
       " 128.09272502989307,\n",
       " 145.8897851476588,\n",
       " 166.15954022227976,\n",
       " 189.24554615386407,\n",
       " 215.53909469268774,\n",
       " 245.4858109674334,\n",
       " 279.5932332275895,\n",
       " 318.4167791127289,\n",
       " 362.4393541659794,\n",
       " 412.54868340567157,\n",
       " 469.586451894898,\n",
       " 534.5097051543587,\n",
       " 608.4091792982318,\n",
       " 692.524907103357,\n",
       " 788.2698427070474,\n",
       " 897.2519373327244,\n",
       " 1021.3012641763991,\n",
       " 1162.5008219235697,\n",
       " 1323.221852246496,\n",
       " 1506.1633228360392,\n",
       " 1714.4006748199845,\n",
       " 1951.4268954624363,\n",
       " 2221.224508327373,\n",
       " 2528.3231780522524,\n",
       " 2877.8765126544513,\n",
       " 3275.7565847202613,\n",
       " 3728.6456122709055,\n",
       " 4244.148108391153,\n",
       " 4830.920612105262,\n",
       " 5498.817156056133,\n",
       " 6259.053741873878,\n",
       " 7124.396875139935,\n",
       " 8109.378546568317,\n",
       " 9230.5389940534,\n",
       " 10506.731122185396,\n",
       " 11959.341741095193,\n",
       " 13612.794567291336,\n",
       " 15494.835305380591,\n",
       " 17637.069276353275,\n",
       " 20075.477652396465,\n",
       " 22851.006540793675,\n",
       " 26010.26210616664,\n",
       " 29606.298950959237,\n",
       " 33699.504637548365,\n",
       " 38358.613740821565]"
      ]
     },
     "execution_count": 62,
     "metadata": {},
     "output_type": "execute_result"
    }
   ],
   "source": [
    "biomass"
   ]
  }
 ],
 "metadata": {
  "kernelspec": {
   "display_name": "Python 3",
   "language": "python",
   "name": "python3"
  },
  "language_info": {
   "codemirror_mode": {
    "name": "ipython",
    "version": 3
   },
   "file_extension": ".py",
   "mimetype": "text/x-python",
   "name": "python",
   "nbconvert_exporter": "python",
   "pygments_lexer": "ipython3",
   "version": "3.7.5"
  }
 },
 "nbformat": 4,
 "nbformat_minor": 4
}
