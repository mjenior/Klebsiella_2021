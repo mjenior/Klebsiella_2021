{
 "cells": [
  {
   "cell_type": "code",
   "execution_count": 1,
   "metadata": {},
   "outputs": [],
   "source": [
    "import cobra\n",
    "from cobra.flux_analysis import parsimonious\n",
    "from cobra.flux_analysis.variability import find_essential_genes, find_essential_reactions\n",
    "from cobra.medium.minimal_medium import minimal_medium"
   ]
  },
  {
   "cell_type": "code",
   "execution_count": 2,
   "metadata": {},
   "outputs": [],
   "source": [
    "iYL1228 = cobra.io.load_json_model('/home/mjenior/Desktop/active_projects/klebsiella/iYL1228.json')"
   ]
  },
  {
   "cell_type": "code",
   "execution_count": 8,
   "metadata": {},
   "outputs": [],
   "source": [
    "test = set([x.id for x in iYL1228.genes])"
   ]
  },
  {
   "cell_type": "code",
   "execution_count": 24,
   "metadata": {},
   "outputs": [
    {
     "data": {
      "text/plain": [
       "False"
      ]
     },
     "execution_count": 24,
     "metadata": {},
     "output_type": "execute_result"
    }
   ],
   "source": [
    "'KPN_49390' in test"
   ]
  },
  {
   "cell_type": "code",
   "execution_count": 27,
   "metadata": {},
   "outputs": [],
   "source": [
    "KPN_loci = []\n",
    "for x in iYL1228.genes:\n",
    "    locus = x.id\n",
    "    locus = locus.split('_')[1]\n",
    "    KPN_loci.append(locus)\n",
    "KPN_loci = set(KPN_loci)\n",
    "\n",
    "KPHS_loci = []\n",
    "with open('sequence.txt', 'r') as inFile:\n",
    "    for line in inFile:\n",
    "        if not line[0] == '>':\n",
    "            continue\n",
    "        else:\n",
    "            locus = line.split()[1]\n",
    "            locus = locus.split('=')[1]\n",
    "            locus = locus.rstrip(']')\n",
    "            locus = locus.split('_')[1]\n",
    "            KPHS_loci.append(locus)\n",
    "KPHS_loci = set(KPHS_loci)\n",
    "\n",
    "test = KPN_loci.intersection(KPHS_loci)"
   ]
  },
  {
   "cell_type": "code",
   "execution_count": 33,
   "metadata": {},
   "outputs": [
    {
     "data": {
      "text/plain": [
       "1229"
      ]
     },
     "execution_count": 33,
     "metadata": {},
     "output_type": "execute_result"
    }
   ],
   "source": [
    "len(KPN_loci)"
   ]
  },
  {
   "cell_type": "code",
   "execution_count": 31,
   "metadata": {},
   "outputs": [
    {
     "data": {
      "text/plain": [
       "1229"
      ]
     },
     "execution_count": 31,
     "metadata": {},
     "output_type": "execute_result"
    }
   ],
   "source": [
    "len(iYL1228.genes)"
   ]
  },
  {
   "cell_type": "code",
   "execution_count": 15,
   "metadata": {},
   "outputs": [
    {
     "data": {
      "text/html": [
       "\n",
       "        <table>\n",
       "            <tr>\n",
       "                <td><strong>Reaction identifier</strong></td><td>DHAD1</td>\n",
       "            </tr><tr>\n",
       "                <td><strong>Name</strong></td><td>Dihydroxy-acid dehydratase (2,3-dihydroxy-3-methylbutanoate)</td>\n",
       "            </tr><tr>\n",
       "                <td><strong>Memory address</strong></td>\n",
       "                <td>0x07f4d9ad5c2d0</td>\n",
       "            </tr><tr>\n",
       "                <td><strong>Stoichiometry</strong></td>\n",
       "                <td>\n",
       "                    <p style='text-align:right'>23dhmb_c --> 3mob_c + h2o_c</p>\n",
       "                    <p style='text-align:right'>(R)-2,3-Dihydroxy-3-methylbutanoate --> 3-Methyl-2-oxobutanoate + H2O H2O</p>\n",
       "                </td>\n",
       "            </tr><tr>\n",
       "                <td><strong>GPR</strong></td><td>KPN_04270</td>\n",
       "            </tr><tr>\n",
       "                <td><strong>Lower bound</strong></td><td>0.0</td>\n",
       "            </tr><tr>\n",
       "                <td><strong>Upper bound</strong></td><td>1000.0</td>\n",
       "            </tr>\n",
       "        </table>\n",
       "        "
      ],
      "text/plain": [
       "<Reaction DHAD1 at 0x7f4d9ad5c2d0>"
      ]
     },
     "execution_count": 15,
     "metadata": {},
     "output_type": "execute_result"
    }
   ],
   "source": [
    "iYL1228.reactions.DHAD1"
   ]
  },
  {
   "cell_type": "code",
   "execution_count": null,
   "metadata": {},
   "outputs": [],
   "source": [
    "iYL1228.genes.get_by_id('KPN_04422')"
   ]
  },
  {
   "cell_type": "code",
   "execution_count": null,
   "metadata": {},
   "outputs": [],
   "source": []
  },
  {
   "cell_type": "code",
   "execution_count": 3,
   "metadata": {},
   "outputs": [
    {
     "data": {
      "text/html": [
       "\n",
       "        <table>\n",
       "            <tr>\n",
       "                <td><strong>Name</strong></td>\n",
       "                <td>iYL1228</td>\n",
       "            </tr><tr>\n",
       "                <td><strong>Memory address</strong></td>\n",
       "                <td>0x07f2f843fc450</td>\n",
       "            </tr><tr>\n",
       "                <td><strong>Number of metabolites</strong></td>\n",
       "                <td>1658</td>\n",
       "            </tr><tr>\n",
       "                <td><strong>Number of reactions</strong></td>\n",
       "                <td>2262</td>\n",
       "            </tr><tr>\n",
       "                <td><strong>Number of groups</strong></td>\n",
       "                <td>0</td>\n",
       "            </tr><tr>\n",
       "                <td><strong>Objective expression</strong></td>\n",
       "                <td>1.0*BIOMASS_ - 1.0*BIOMASS__reverse_091e5</td>\n",
       "            </tr><tr>\n",
       "                <td><strong>Compartments</strong></td>\n",
       "                <td>periplasm, cytosol, extracellular space</td>\n",
       "            </tr>\n",
       "          </table>"
      ],
      "text/plain": [
       "<Model iYL1228 at 0x7f2f843fc450>"
      ]
     },
     "execution_count": 3,
     "metadata": {},
     "output_type": "execute_result"
    }
   ],
   "source": [
    "iYL1228"
   ]
  },
  {
   "cell_type": "code",
   "execution_count": 6,
   "metadata": {},
   "outputs": [],
   "source": [
    "# Function to calculate doubling time from objective value\n",
    "def doublingTime(model):\n",
    "    with model as m:\n",
    "        if m.slim_optimize(error_value=0.) < 1e-6:\n",
    "            print('GENRE has no objective flux')\n",
    "        else:\n",
    "            growth = (1. / float(m.slim_optimize())) * 3600.\n",
    "            print(str(round(growth, 2)) + ' minutes doubling time')\n",
    "\n",
    "\n",
    "# Identifies blocked reactions, 1% cutoff for fraction of optimum\n",
    "def blockedReactions(model):\n",
    "    \n",
    "    with model as m:\n",
    "        blocked = cobra.flux_analysis.variability.find_blocked_reactions(m)\n",
    "        nogene_blocked = []\n",
    "        for rxn in blocked:\n",
    "            if m.reactions.get_by_id(rxn).gene_reaction_rule == '':\n",
    "                nogene_blocked.append(rxn)\n",
    "\n",
    "    #print(str(len(blocked)) + ' total reactions are blocked')\n",
    "    fraction = (float(len(blocked)) / float(len(model.reactions))) * 100.\n",
    "    fraction = round(fraction, 2)\n",
    "    print(str(fraction) + '% reactions are blocked')\n",
    "    \n",
    "    return blocked\n",
    "\n",
    "\n",
    "# Identify potentially gapfilled reactions, checks against pFBA solution\n",
    "def missingGPR(model):\n",
    "    \n",
    "    noGene = []\n",
    "    exclude = []\n",
    "    for rxn in model.reactions:\n",
    "        if len(list(rxn.genes)) == 0:\n",
    "            if rxn.annotation['sbo'] != 'SBO:0000629':\n",
    "                if rxn in model.boundary:\n",
    "                    exclude.append(rxn.id)\n",
    "                    continue\n",
    "                else:\n",
    "                    noGene.append(rxn.id)\n",
    "    \n",
    "    solution = parsimonious.pfba(model)\n",
    "    active_rxns = set([rxn.id for rxn in model.reactions if abs(solution.fluxes[rxn.id]) > 1e-5])\n",
    "    active_rxns = active_rxns.difference(set(exclude))\n",
    "    noGene_active = set(noGene).intersection(active_rxns)\n",
    "\n",
    "    fraction = float(len(model.reactions)) - float(len(exclude))\n",
    "    fraction = (float(len(noGene)) / fraction) * 100.\n",
    "    fraction = round(fraction, 2)\n",
    "    print(str(fraction) + '% reactions without GPRs')\n",
    "    \n",
    "    fraction = (float(len(noGene_active)) / float(len(active_rxns))) * 100.\n",
    "    fraction = round(fraction, 2)\n",
    "    print(str(fraction) + '% of reactions used in pFBA solution have no GPR')\n",
    "    \n",
    "    return noGene_active\n",
    "\n",
    "\n",
    "# Checks which cytosolic metabolites are generated for free (bacteria only)\n",
    "def checkFreeMass(model, cytosol='cytosol'):\n",
    "\n",
    "    free = []\n",
    "    with model as m:\n",
    "    \n",
    "        # Close all exchanges\n",
    "        for rxn in m.boundary: m.reactions.get_by_id(rxn.id).lower_bound = 0.\n",
    "    \n",
    "        # Create demand for each reaction and optimize individually\n",
    "        reset_rxn = m.reactions[0].id\n",
    "        for cpd in m.metabolites: \n",
    "            if cpd.compartment == cytosol:\n",
    "                demand = cobra.Reaction('demand')\n",
    "                demand.bounds = (0., 1000.)\n",
    "                demand.add_metabolites({cpd: -1.0})\n",
    "                m.add_reactions([demand])\n",
    "                m.objective = demand\n",
    "                obj_val = m.slim_optimize()\n",
    "                if obj_val > 1e-8: free.append(cpd.id)\n",
    "                m.objective = reset_rxn\n",
    "                m.remove_reactions([demand])\n",
    "    \n",
    "    fraction = (float(len(free)) / float(len(model.metabolites))) * 100.\n",
    "    fraction = round(fraction, 2)\n",
    "    print(str(fraction) + '% metabolites are generated for free')\n",
    "\n",
    "    return(free)\n",
    "\n",
    "\n",
    "# Check for mass and charge balance in reactions\n",
    "def checkBalance(model):\n",
    "    \n",
    "    with model as m:\n",
    "\n",
    "        elements = set()\n",
    "        for cpd in m.metabolites:\n",
    "            try:\n",
    "                elements |= set(cpd.elements.keys())\n",
    "            except:\n",
    "                pass\n",
    "        \n",
    "        massImbal = []\n",
    "        failed = 0\n",
    "        if len(elements) == 0:\n",
    "            print('No elemental data associated with metabolites!')\n",
    "            failed = 1\n",
    "        else:\n",
    "            for rxn in m.reactions:\n",
    "                if rxn.annotation['sbo'] == 'SBO:0000629': \n",
    "                    continue\n",
    "                elif rxn in m.boundary:\n",
    "                    continue\n",
    "\n",
    "                try:\n",
    "                    test = rxn.check_mass_balance()\n",
    "                except ValueError:\n",
    "                    continue\n",
    "\n",
    "                if len(list(test)) > 0:\n",
    "                    if len(set(test.keys()).intersection(elements)) > 0: massImbal.append(rxn.id)\n",
    "                        \n",
    "    if failed != 1:\n",
    "        fraction = (float(len(massImbal)) / float(len(model.reactions))) * 100.\n",
    "        fraction = round(fraction, 2)\n",
    "        print(str(fraction) + '% reactions are mass imbalanced')\n",
    "        \n",
    "    return massImbal\n",
    "\n",
    "\n",
    "def basicCheck(model):\n",
    "    \n",
    "    # Determination\n",
    "    if len(model.reactions) < len(model.metabolites): \n",
    "        print('GENRE is overdetermined')\n",
    "    elif len(model.reactions) > len(model.metabolites):\n",
    "        print('GENRE is underdetermined')\n",
    "    else:\n",
    "        pass\n",
    "    \n",
    "    # Compartments\n",
    "    print('GENRE has ' + str(len(model.compartments.keys())) + ' compartment(s)')\n",
    "    \n",
    "    # Genes\n",
    "    if len(model.genes) == 0: \n",
    "        print('GENRE has no gene data')\n",
    "    else:\n",
    "        print('GENRE has ' + str(len(model.genes)) + ' genes')\n",
    "          \n",
    "    # Growth\n",
    "    doublingTime(model)\n",
    "\n"
   ]
  },
  {
   "cell_type": "code",
   "execution_count": 5,
   "metadata": {},
   "outputs": [],
   "source": [
    "# Open all exchange bounds\n",
    "for x in iYL1228.exchanges: x.bounds = (-1000., 1000.)"
   ]
  },
  {
   "cell_type": "code",
   "execution_count": 10,
   "metadata": {},
   "outputs": [
    {
     "name": "stdout",
     "output_type": "stream",
     "text": [
      "GENRE is underdetermined\n",
      "GENRE has 3 compartment(s)\n",
      "GENRE has 1229 genes\n",
      "53.94 minutes doubling time\n",
      "22.37% reactions are blocked\n",
      "0.0% metabolites are generated for free\n",
      "No elemental data associated with metabolites!\n",
      "3.86% reactions without GPRs\n",
      "2.63% of reactions used in pFBA solution have no GPR\n"
     ]
    }
   ],
   "source": [
    "basicCheck(iYL1228)\n",
    "draft_noGPRblocked = blockedReactions(iYL1228)\n",
    "draft_free = checkFreeMass(iYL1228)\n",
    "draft_massImbal = checkBalance(iYL1228)\n",
    "draft_nogene = missingGPR(iYL1228)"
   ]
  },
  {
   "cell_type": "code",
   "execution_count": 46,
   "metadata": {},
   "outputs": [
    {
     "data": {
      "text/html": [
       "\n",
       "        <table>\n",
       "            <tr>\n",
       "                <td><strong>Metabolite identifier</strong></td><td>arab__L_e</td>\n",
       "            </tr><tr>\n",
       "                <td><strong>Name</strong></td><td>L-Arabinose</td>\n",
       "            </tr><tr>\n",
       "                <td><strong>Memory address</strong></td>\n",
       "                <td>0x07f2f9c7b3810</td>\n",
       "            </tr><tr>\n",
       "                <td><strong>Formula</strong></td><td>None</td>\n",
       "            </tr><tr>\n",
       "                <td><strong>Compartment</strong></td><td>e</td>\n",
       "            </tr><tr>\n",
       "                <td><strong>In 2 reaction(s)</strong></td><td>\n",
       "                    EX_arab__L_e, ARBtex</td>\n",
       "            </tr>\n",
       "        </table>"
      ],
      "text/plain": [
       "<Metabolite arab__L_e at 0x7f2f9c7b3810>"
      ]
     },
     "execution_count": 46,
     "metadata": {},
     "output_type": "execute_result"
    }
   ],
   "source": [
    "iYL1228.metabolites.arab__L_e"
   ]
  },
  {
   "cell_type": "code",
   "execution_count": 12,
   "metadata": {},
   "outputs": [
    {
     "data": {
      "text/html": [
       "\n",
       "        <table>\n",
       "            <tr>\n",
       "                <td><strong>Reaction identifier</strong></td><td>ARAI</td>\n",
       "            </tr><tr>\n",
       "                <td><strong>Name</strong></td><td>L-arabinose isomerase</td>\n",
       "            </tr><tr>\n",
       "                <td><strong>Memory address</strong></td>\n",
       "                <td>0x07f2070ab3050</td>\n",
       "            </tr><tr>\n",
       "                <td><strong>Stoichiometry</strong></td>\n",
       "                <td>\n",
       "                    <p style='text-align:right'>arab__L_c <=> rbl__L_c</p>\n",
       "                    <p style='text-align:right'>L-Arabinose <=> L-Ribulose</p>\n",
       "                </td>\n",
       "            </tr><tr>\n",
       "                <td><strong>GPR</strong></td><td>KPN_00061</td>\n",
       "            </tr><tr>\n",
       "                <td><strong>Lower bound</strong></td><td>-1000.0</td>\n",
       "            </tr><tr>\n",
       "                <td><strong>Upper bound</strong></td><td>1000.0</td>\n",
       "            </tr>\n",
       "        </table>\n",
       "        "
      ],
      "text/plain": [
       "<Reaction ARAI at 0x7f2070ab3050>"
      ]
     },
     "execution_count": 12,
     "metadata": {},
     "output_type": "execute_result"
    }
   ],
   "source": [
    "iYL1228.reactions.ARAI"
   ]
  },
  {
   "cell_type": "code",
   "execution_count": 47,
   "metadata": {},
   "outputs": [
    {
     "data": {
      "text/html": [
       "\n",
       "        <table>\n",
       "            <tr>\n",
       "                <td><strong>Gene identifier</strong></td><td>KPN_00061</td>\n",
       "            </tr><tr>\n",
       "                <td><strong>Name</strong></td><td>araA</td>\n",
       "            </tr><tr>\n",
       "                <td><strong>Memory address</strong></td>\n",
       "                <td>0x07f2f9c687450</td>\n",
       "            </tr><tr>\n",
       "                <td><strong>Functional</strong></td><td>True</td>\n",
       "            </tr><tr>\n",
       "                <td><strong>In 1 reaction(s)</strong></td><td>\n",
       "                    ARAI</td>\n",
       "            </tr>\n",
       "        </table>"
      ],
      "text/plain": [
       "<Gene KPN_00061 at 0x7f2f9c687450>"
      ]
     },
     "execution_count": 47,
     "metadata": {},
     "output_type": "execute_result"
    }
   ],
   "source": [
    "iYL1228.genes.KPN_00061"
   ]
  },
  {
   "cell_type": "code",
   "execution_count": 67,
   "metadata": {},
   "outputs": [
    {
     "data": {
      "text/html": [
       "\n",
       "        <table>\n",
       "            <tr>\n",
       "                <td><strong>Metabolite identifier</strong></td><td>lyx__L_c</td>\n",
       "            </tr><tr>\n",
       "                <td><strong>Name</strong></td><td>L-Lyxose</td>\n",
       "            </tr><tr>\n",
       "                <td><strong>Memory address</strong></td>\n",
       "                <td>0x07f2f9c776a90</td>\n",
       "            </tr><tr>\n",
       "                <td><strong>Formula</strong></td><td>None</td>\n",
       "            </tr><tr>\n",
       "                <td><strong>Compartment</strong></td><td>c</td>\n",
       "            </tr><tr>\n",
       "                <td><strong>In 2 reaction(s)</strong></td><td>\n",
       "                    LYXI, LYXt2pp</td>\n",
       "            </tr>\n",
       "        </table>"
      ],
      "text/plain": [
       "<Metabolite lyx__L_c at 0x7f2f9c776a90>"
      ]
     },
     "execution_count": 67,
     "metadata": {},
     "output_type": "execute_result"
    }
   ],
   "source": [
    "iYL1228.metabolites.get_by_id('lyx__L_c')"
   ]
  },
  {
   "cell_type": "code",
   "execution_count": 69,
   "metadata": {},
   "outputs": [
    {
     "data": {
      "text/html": [
       "\n",
       "        <table>\n",
       "            <tr>\n",
       "                <td><strong>Reaction identifier</strong></td><td>MAN6PI</td>\n",
       "            </tr><tr>\n",
       "                <td><strong>Name</strong></td><td>Mannose-6-phosphate isomerase</td>\n",
       "            </tr><tr>\n",
       "                <td><strong>Memory address</strong></td>\n",
       "                <td>0x07f2f84277790</td>\n",
       "            </tr><tr>\n",
       "                <td><strong>Stoichiometry</strong></td>\n",
       "                <td>\n",
       "                    <p style='text-align:right'>man6p_c <=> f6p_c</p>\n",
       "                    <p style='text-align:right'>D-Mannose 6-phosphate <=> D-Fructose 6-phosphate</p>\n",
       "                </td>\n",
       "            </tr><tr>\n",
       "                <td><strong>GPR</strong></td><td>KPN_01515</td>\n",
       "            </tr><tr>\n",
       "                <td><strong>Lower bound</strong></td><td>-1000.0</td>\n",
       "            </tr><tr>\n",
       "                <td><strong>Upper bound</strong></td><td>1000.0</td>\n",
       "            </tr>\n",
       "        </table>\n",
       "        "
      ],
      "text/plain": [
       "<Reaction MAN6PI at 0x7f2f84277790>"
      ]
     },
     "execution_count": 69,
     "metadata": {},
     "output_type": "execute_result"
    }
   ],
   "source": [
    "iYL1228.reactions.get_by_id('MAN6PI')"
   ]
  },
  {
   "cell_type": "code",
   "execution_count": null,
   "metadata": {},
   "outputs": [],
   "source": [
    "# Reactions from Mary:\n",
    "# GLYCDH = Glycerol -> 3-HPA + H2O\n",
    "# 13PPDH = 3-HPA + NADH2 -> 13ppd_c + NAD\n",
    "# already present???\n"
   ]
  },
  {
   "cell_type": "code",
   "execution_count": null,
   "metadata": {},
   "outputs": [],
   "source": [
    "\n",
    "\n",
    "d-mannose\n",
    "d/l-galactose\n",
    "\n",
    "# Arabinose\n",
    "https://pubmed.ncbi.nlm.nih.gov/17189171/\n",
    "gene = KPN_00061\n",
    "\n",
    "    \n",
    "    \n",
    "https://pubmed.ncbi.nlm.nih.gov/350845/\n"
   ]
  }
 ],
 "metadata": {
  "kernelspec": {
   "display_name": "Python 3",
   "language": "python",
   "name": "python3"
  },
  "language_info": {
   "codemirror_mode": {
    "name": "ipython",
    "version": 3
   },
   "file_extension": ".py",
   "mimetype": "text/x-python",
   "name": "python",
   "nbconvert_exporter": "python",
   "pygments_lexer": "ipython3",
   "version": "3.7.5"
  }
 },
 "nbformat": 4,
 "nbformat_minor": 2
}
